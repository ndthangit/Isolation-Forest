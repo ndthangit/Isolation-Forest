{
 "cells": [
  {
   "cell_type": "code",
   "outputs": [],
   "source": [
    "import pandas as pd\n",
    "import numpy as np\n",
    "import seaborn as sns\n",
    "import matplotlib.pyplot as plt\n",
    "from collections import Counter\n",
    "\n",
    "from sklearn.ensemble import IsolationForest\n",
    "from sklearn.metrics import accuracy_score, classification_report\n",
    "from sklearn.preprocessing import StandardScaler"
   ],
   "metadata": {
    "collapsed": false,
    "ExecuteTime": {
     "end_time": "2024-12-07T07:53:40.631783Z",
     "start_time": "2024-12-07T07:53:39.923847Z"
    }
   },
   "id": "a241af747a5fd309",
   "execution_count": 1
  },
  {
   "cell_type": "code",
   "outputs": [],
   "source": [
    "training_start = 1\n",
    "training_end = 3\n",
    "\n",
    "test_start =4\n",
    "test_end =7"
   ],
   "metadata": {
    "collapsed": false,
    "ExecuteTime": {
     "end_time": "2024-12-07T07:53:40.643214Z",
     "start_time": "2024-12-07T07:53:40.634825Z"
    }
   },
   "id": "6efa9f7bc07d9d10",
   "execution_count": 2
  },
  {
   "cell_type": "code",
   "outputs": [],
   "source": [
    "# Define the mapping of attack types to integer keys\n",
    "attack_type_map = {\n",
    "    'Benign': 0,\n",
    "    'DoS': 1,\n",
    "    'scanning': 2,\n",
    "    'DDoS': 3,\n",
    "    'xss': 4,\n",
    "    'Bot': 5,\n",
    "    'Reconnaissance': 6,\n",
    "    'password': 7,\n",
    "    'Fuzzers': 8,\n",
    "    'injection': 9,\n",
    "    'Theft': 10,\n",
    "    'Brute Force': 11,\n",
    "    'Infilteration': 12,\n",
    "    'Exploits': 13,\n",
    "    'Generic': 14,\n",
    "    'Analysis': 15,\n",
    "    'Backdoor': 16,\n",
    "    'mitm': 17,\n",
    "    'Shellcode': 18,\n",
    "    'ransomware': 19,\n",
    "    'Worms': 20\n",
    "}\n",
    "\n",
    "drop_column={\n",
    "    'Dataset',\n",
    "    'IPV4_SRC_ADDR',\n",
    "    'IPV4_DST_ADDR',\n",
    "    'L7_PROTO',\n",
    "    'SRC_TO_DST_SECOND_BYTES',\n",
    "    'DST_TO_SRC_SECOND_BYTES',\n",
    "    'FTP_COMMAND_RET_CODE',\n",
    "\n",
    "}\n"
   ],
   "metadata": {
    "collapsed": false,
    "ExecuteTime": {
     "end_time": "2024-12-07T07:53:40.655655Z",
     "start_time": "2024-12-07T07:53:40.645595Z"
    }
   },
   "id": "955cc8959220848",
   "execution_count": 3
  },
  {
   "cell_type": "code",
   "outputs": [],
   "source": [
    "train_url =[f'dataset-v2/part_{i}.csv' for i in range(training_start,training_end)]\n",
    "test_url =[f'dataset-v2/part_{i}.csv' for i in range(test_start,test_end)]"
   ],
   "metadata": {
    "collapsed": false,
    "ExecuteTime": {
     "end_time": "2024-12-07T07:53:40.665967Z",
     "start_time": "2024-12-07T07:53:40.659488Z"
    }
   },
   "id": "861ec9530abde0b9",
   "execution_count": 4
  },
  {
   "cell_type": "code",
   "outputs": [],
   "source": [
    "\n",
    "data = pd.read_csv(train_url[0])\n",
    "test = pd.read_csv(test_url[0])"
   ],
   "metadata": {
    "collapsed": false,
    "ExecuteTime": {
     "end_time": "2024-12-07T07:53:50.039911Z",
     "start_time": "2024-12-07T07:53:40.667971Z"
    }
   },
   "id": "2c8f9762f07a90",
   "execution_count": 5
  },
  {
   "cell_type": "code",
   "outputs": [
    {
     "name": "stdout",
     "output_type": "stream",
     "text": [
      "Số lượng của mỗi phần tử: Counter({'Benign': 281373, 'DDoS': 243054, 'DoS': 200264, 'scanning': 42872, 'Reconnaissance': 29229, 'xss': 27486, 'password': 12762, 'injection': 7650, 'Bot': 1579, 'Brute Force': 1375, 'Infilteration': 1322, 'Exploits': 355, 'Fuzzers': 245, 'Backdoor': 208, 'Generic': 177, 'mitm': 83, 'ransomware': 40, 'Analysis': 33, 'Theft': 19, 'Shellcode': 15, 'Worms': 4})\n"
     ]
    }
   ],
   "source": [
    "num_type = Counter(data['Attack'])\n",
    "\n",
    "print(\"Số lượng của mỗi phần tử:\", num_type)\n"
   ],
   "metadata": {
    "collapsed": false,
    "ExecuteTime": {
     "end_time": "2024-12-07T07:53:50.222305Z",
     "start_time": "2024-12-07T07:53:50.041918Z"
    }
   },
   "id": "555609f6a173d8a8",
   "execution_count": 6
  },
  {
   "cell_type": "code",
   "outputs": [
    {
     "name": "stdout",
     "output_type": "stream",
     "text": [
      "['DoS' 'Benign' 'scanning' 'DDoS' 'xss' 'Bot' 'Reconnaissance' 'password'\n",
      " 'Fuzzers' 'injection' 'Theft' 'Brute Force' 'Infilteration' 'Exploits'\n",
      " 'Generic' 'Analysis' 'Backdoor' 'mitm' 'Shellcode' 'ransomware' 'Worms']\n"
     ]
    }
   ],
   "source": [
    "unique_attacks = data['Attack'].unique()\n",
    "print(unique_attacks)"
   ],
   "metadata": {
    "collapsed": false,
    "ExecuteTime": {
     "end_time": "2024-11-30T12:12:40.230141Z",
     "start_time": "2024-11-30T12:12:40.185969Z"
    }
   },
   "id": "b7909740f29a5bc0",
   "execution_count": 40
  },
  {
   "cell_type": "code",
   "outputs": [
    {
     "data": {
      "text/plain": "   L4_SRC_PORT  L4_DST_PORT  PROTOCOL  IN_BYTES  IN_PKTS  OUT_BYTES  OUT_PKTS  \\\n0        65389           80         6       420        3          0         0   \n1        11154           80         6       280        2         40         1   \n2        42062         1041         6        44        1         40         1   \n3        46849         9110         6        44        1         40         1   \n4        50360         1084         6        44        1         40         1   \n\n   TCP_FLAGS  CLIENT_TCP_FLAGS  SERVER_TCP_FLAGS  ...  \\\n0          2                 2                 0  ...   \n1         22                 2                20  ...   \n2         22                 2                20  ...   \n3         22                 2                20  ...   \n4         22                 2                20  ...   \n\n   NUM_PKTS_1024_TO_1514_BYTES  TCP_WIN_MAX_IN  TCP_WIN_MAX_OUT  ICMP_TYPE  \\\n0                            0             512                0      35840   \n1                            0             512                0          0   \n2                            0            1024                0          0   \n3                            0            1024                0          0   \n4                            0            1024                0          0   \n\n   ICMP_IPV4_TYPE  DNS_QUERY_ID  DNS_QUERY_TYPE  DNS_TTL_ANSWER  Label  Attack  \n0             140             0               0               0      1     DoS  \n1               0             0               0               0      1     DoS  \n2               0             0               0               0      0  Benign  \n3               0             0               0               0      0  Benign  \n4               0             0               0               0      0  Benign  \n\n[5 rows x 39 columns]",
      "text/html": "<div>\n<style scoped>\n    .dataframe tbody tr th:only-of-type {\n        vertical-align: middle;\n    }\n\n    .dataframe tbody tr th {\n        vertical-align: top;\n    }\n\n    .dataframe thead th {\n        text-align: right;\n    }\n</style>\n<table border=\"1\" class=\"dataframe\">\n  <thead>\n    <tr style=\"text-align: right;\">\n      <th></th>\n      <th>L4_SRC_PORT</th>\n      <th>L4_DST_PORT</th>\n      <th>PROTOCOL</th>\n      <th>IN_BYTES</th>\n      <th>IN_PKTS</th>\n      <th>OUT_BYTES</th>\n      <th>OUT_PKTS</th>\n      <th>TCP_FLAGS</th>\n      <th>CLIENT_TCP_FLAGS</th>\n      <th>SERVER_TCP_FLAGS</th>\n      <th>...</th>\n      <th>NUM_PKTS_1024_TO_1514_BYTES</th>\n      <th>TCP_WIN_MAX_IN</th>\n      <th>TCP_WIN_MAX_OUT</th>\n      <th>ICMP_TYPE</th>\n      <th>ICMP_IPV4_TYPE</th>\n      <th>DNS_QUERY_ID</th>\n      <th>DNS_QUERY_TYPE</th>\n      <th>DNS_TTL_ANSWER</th>\n      <th>Label</th>\n      <th>Attack</th>\n    </tr>\n  </thead>\n  <tbody>\n    <tr>\n      <th>0</th>\n      <td>65389</td>\n      <td>80</td>\n      <td>6</td>\n      <td>420</td>\n      <td>3</td>\n      <td>0</td>\n      <td>0</td>\n      <td>2</td>\n      <td>2</td>\n      <td>0</td>\n      <td>...</td>\n      <td>0</td>\n      <td>512</td>\n      <td>0</td>\n      <td>35840</td>\n      <td>140</td>\n      <td>0</td>\n      <td>0</td>\n      <td>0</td>\n      <td>1</td>\n      <td>DoS</td>\n    </tr>\n    <tr>\n      <th>1</th>\n      <td>11154</td>\n      <td>80</td>\n      <td>6</td>\n      <td>280</td>\n      <td>2</td>\n      <td>40</td>\n      <td>1</td>\n      <td>22</td>\n      <td>2</td>\n      <td>20</td>\n      <td>...</td>\n      <td>0</td>\n      <td>512</td>\n      <td>0</td>\n      <td>0</td>\n      <td>0</td>\n      <td>0</td>\n      <td>0</td>\n      <td>0</td>\n      <td>1</td>\n      <td>DoS</td>\n    </tr>\n    <tr>\n      <th>2</th>\n      <td>42062</td>\n      <td>1041</td>\n      <td>6</td>\n      <td>44</td>\n      <td>1</td>\n      <td>40</td>\n      <td>1</td>\n      <td>22</td>\n      <td>2</td>\n      <td>20</td>\n      <td>...</td>\n      <td>0</td>\n      <td>1024</td>\n      <td>0</td>\n      <td>0</td>\n      <td>0</td>\n      <td>0</td>\n      <td>0</td>\n      <td>0</td>\n      <td>0</td>\n      <td>Benign</td>\n    </tr>\n    <tr>\n      <th>3</th>\n      <td>46849</td>\n      <td>9110</td>\n      <td>6</td>\n      <td>44</td>\n      <td>1</td>\n      <td>40</td>\n      <td>1</td>\n      <td>22</td>\n      <td>2</td>\n      <td>20</td>\n      <td>...</td>\n      <td>0</td>\n      <td>1024</td>\n      <td>0</td>\n      <td>0</td>\n      <td>0</td>\n      <td>0</td>\n      <td>0</td>\n      <td>0</td>\n      <td>0</td>\n      <td>Benign</td>\n    </tr>\n    <tr>\n      <th>4</th>\n      <td>50360</td>\n      <td>1084</td>\n      <td>6</td>\n      <td>44</td>\n      <td>1</td>\n      <td>40</td>\n      <td>1</td>\n      <td>22</td>\n      <td>2</td>\n      <td>20</td>\n      <td>...</td>\n      <td>0</td>\n      <td>1024</td>\n      <td>0</td>\n      <td>0</td>\n      <td>0</td>\n      <td>0</td>\n      <td>0</td>\n      <td>0</td>\n      <td>0</td>\n      <td>Benign</td>\n    </tr>\n  </tbody>\n</table>\n<p>5 rows × 39 columns</p>\n</div>"
     },
     "execution_count": 41,
     "metadata": {},
     "output_type": "execute_result"
    }
   ],
   "source": [
    "data.drop(columns=drop_column, inplace=True)\n",
    "test.drop(columns=drop_column, inplace=True)\n",
    "data.head()"
   ],
   "metadata": {
    "collapsed": false,
    "ExecuteTime": {
     "end_time": "2024-11-30T12:12:40.439134Z",
     "start_time": "2024-11-30T12:12:40.232257Z"
    }
   },
   "id": "9d5a8847945cda4d",
   "execution_count": 41
  },
  {
   "cell_type": "code",
   "outputs": [
    {
     "data": {
      "text/plain": "   L4_SRC_PORT  L4_DST_PORT  PROTOCOL  IN_BYTES  IN_PKTS  OUT_BYTES  OUT_PKTS  \\\n0        65389           80         6       420        3          0         0   \n1        11154           80         6       280        2         40         1   \n2        42062         1041         6        44        1         40         1   \n3        46849         9110         6        44        1         40         1   \n4        50360         1084         6        44        1         40         1   \n\n   TCP_FLAGS  CLIENT_TCP_FLAGS  SERVER_TCP_FLAGS  ...  \\\n0          2                 2                 0  ...   \n1         22                 2                20  ...   \n2         22                 2                20  ...   \n3         22                 2                20  ...   \n4         22                 2                20  ...   \n\n   NUM_PKTS_1024_TO_1514_BYTES  TCP_WIN_MAX_IN  TCP_WIN_MAX_OUT  ICMP_TYPE  \\\n0                            0             512                0      35840   \n1                            0             512                0          0   \n2                            0            1024                0          0   \n3                            0            1024                0          0   \n4                            0            1024                0          0   \n\n   ICMP_IPV4_TYPE  DNS_QUERY_ID  DNS_QUERY_TYPE  DNS_TTL_ANSWER  Label  Attack  \n0             140             0               0               0      1     DoS  \n1               0             0               0               0      1     DoS  \n2               0             0               0               0      0  Benign  \n3               0             0               0               0      0  Benign  \n4               0             0               0               0      0  Benign  \n\n[5 rows x 39 columns]",
      "text/html": "<div>\n<style scoped>\n    .dataframe tbody tr th:only-of-type {\n        vertical-align: middle;\n    }\n\n    .dataframe tbody tr th {\n        vertical-align: top;\n    }\n\n    .dataframe thead th {\n        text-align: right;\n    }\n</style>\n<table border=\"1\" class=\"dataframe\">\n  <thead>\n    <tr style=\"text-align: right;\">\n      <th></th>\n      <th>L4_SRC_PORT</th>\n      <th>L4_DST_PORT</th>\n      <th>PROTOCOL</th>\n      <th>IN_BYTES</th>\n      <th>IN_PKTS</th>\n      <th>OUT_BYTES</th>\n      <th>OUT_PKTS</th>\n      <th>TCP_FLAGS</th>\n      <th>CLIENT_TCP_FLAGS</th>\n      <th>SERVER_TCP_FLAGS</th>\n      <th>...</th>\n      <th>NUM_PKTS_1024_TO_1514_BYTES</th>\n      <th>TCP_WIN_MAX_IN</th>\n      <th>TCP_WIN_MAX_OUT</th>\n      <th>ICMP_TYPE</th>\n      <th>ICMP_IPV4_TYPE</th>\n      <th>DNS_QUERY_ID</th>\n      <th>DNS_QUERY_TYPE</th>\n      <th>DNS_TTL_ANSWER</th>\n      <th>Label</th>\n      <th>Attack</th>\n    </tr>\n  </thead>\n  <tbody>\n    <tr>\n      <th>0</th>\n      <td>65389</td>\n      <td>80</td>\n      <td>6</td>\n      <td>420</td>\n      <td>3</td>\n      <td>0</td>\n      <td>0</td>\n      <td>2</td>\n      <td>2</td>\n      <td>0</td>\n      <td>...</td>\n      <td>0</td>\n      <td>512</td>\n      <td>0</td>\n      <td>35840</td>\n      <td>140</td>\n      <td>0</td>\n      <td>0</td>\n      <td>0</td>\n      <td>1</td>\n      <td>DoS</td>\n    </tr>\n    <tr>\n      <th>1</th>\n      <td>11154</td>\n      <td>80</td>\n      <td>6</td>\n      <td>280</td>\n      <td>2</td>\n      <td>40</td>\n      <td>1</td>\n      <td>22</td>\n      <td>2</td>\n      <td>20</td>\n      <td>...</td>\n      <td>0</td>\n      <td>512</td>\n      <td>0</td>\n      <td>0</td>\n      <td>0</td>\n      <td>0</td>\n      <td>0</td>\n      <td>0</td>\n      <td>1</td>\n      <td>DoS</td>\n    </tr>\n    <tr>\n      <th>2</th>\n      <td>42062</td>\n      <td>1041</td>\n      <td>6</td>\n      <td>44</td>\n      <td>1</td>\n      <td>40</td>\n      <td>1</td>\n      <td>22</td>\n      <td>2</td>\n      <td>20</td>\n      <td>...</td>\n      <td>0</td>\n      <td>1024</td>\n      <td>0</td>\n      <td>0</td>\n      <td>0</td>\n      <td>0</td>\n      <td>0</td>\n      <td>0</td>\n      <td>0</td>\n      <td>Benign</td>\n    </tr>\n    <tr>\n      <th>3</th>\n      <td>46849</td>\n      <td>9110</td>\n      <td>6</td>\n      <td>44</td>\n      <td>1</td>\n      <td>40</td>\n      <td>1</td>\n      <td>22</td>\n      <td>2</td>\n      <td>20</td>\n      <td>...</td>\n      <td>0</td>\n      <td>1024</td>\n      <td>0</td>\n      <td>0</td>\n      <td>0</td>\n      <td>0</td>\n      <td>0</td>\n      <td>0</td>\n      <td>0</td>\n      <td>Benign</td>\n    </tr>\n    <tr>\n      <th>4</th>\n      <td>50360</td>\n      <td>1084</td>\n      <td>6</td>\n      <td>44</td>\n      <td>1</td>\n      <td>40</td>\n      <td>1</td>\n      <td>22</td>\n      <td>2</td>\n      <td>20</td>\n      <td>...</td>\n      <td>0</td>\n      <td>1024</td>\n      <td>0</td>\n      <td>0</td>\n      <td>0</td>\n      <td>0</td>\n      <td>0</td>\n      <td>0</td>\n      <td>0</td>\n      <td>Benign</td>\n    </tr>\n  </tbody>\n</table>\n<p>5 rows × 39 columns</p>\n</div>"
     },
     "execution_count": 42,
     "metadata": {},
     "output_type": "execute_result"
    }
   ],
   "source": [
    "data.head()"
   ],
   "metadata": {
    "collapsed": false,
    "ExecuteTime": {
     "end_time": "2024-11-30T12:12:40.453452Z",
     "start_time": "2024-11-30T12:12:40.440281Z"
    }
   },
   "id": "e0698322c973e7be",
   "execution_count": 42
  },
  {
   "cell_type": "code",
   "outputs": [],
   "source": [
    "data['Attack'] = data['Attack'].map(attack_type_map)\n",
    "test['Attack'] = test['Attack'].map(attack_type_map)\n",
    "#"
   ],
   "metadata": {
    "collapsed": false,
    "ExecuteTime": {
     "end_time": "2024-11-30T12:12:40.559547Z",
     "start_time": "2024-11-30T12:12:40.455140Z"
    }
   },
   "id": "d0355ca82b2f6c19",
   "execution_count": 43
  },
  {
   "cell_type": "code",
   "outputs": [
    {
     "data": {
      "text/plain": "   L4_SRC_PORT  L4_DST_PORT  PROTOCOL  IN_BYTES  IN_PKTS  OUT_BYTES  OUT_PKTS  \\\n0        65389           80         6       420        3          0         0   \n1        11154           80         6       280        2         40         1   \n2        42062         1041         6        44        1         40         1   \n3        46849         9110         6        44        1         40         1   \n4        50360         1084         6        44        1         40         1   \n\n   TCP_FLAGS  CLIENT_TCP_FLAGS  SERVER_TCP_FLAGS  ...  \\\n0          2                 2                 0  ...   \n1         22                 2                20  ...   \n2         22                 2                20  ...   \n3         22                 2                20  ...   \n4         22                 2                20  ...   \n\n   NUM_PKTS_1024_TO_1514_BYTES  TCP_WIN_MAX_IN  TCP_WIN_MAX_OUT  ICMP_TYPE  \\\n0                            0             512                0      35840   \n1                            0             512                0          0   \n2                            0            1024                0          0   \n3                            0            1024                0          0   \n4                            0            1024                0          0   \n\n   ICMP_IPV4_TYPE  DNS_QUERY_ID  DNS_QUERY_TYPE  DNS_TTL_ANSWER  Label  Attack  \n0             140             0               0               0      1       1  \n1               0             0               0               0      1       1  \n2               0             0               0               0      0       0  \n3               0             0               0               0      0       0  \n4               0             0               0               0      0       0  \n\n[5 rows x 39 columns]",
      "text/html": "<div>\n<style scoped>\n    .dataframe tbody tr th:only-of-type {\n        vertical-align: middle;\n    }\n\n    .dataframe tbody tr th {\n        vertical-align: top;\n    }\n\n    .dataframe thead th {\n        text-align: right;\n    }\n</style>\n<table border=\"1\" class=\"dataframe\">\n  <thead>\n    <tr style=\"text-align: right;\">\n      <th></th>\n      <th>L4_SRC_PORT</th>\n      <th>L4_DST_PORT</th>\n      <th>PROTOCOL</th>\n      <th>IN_BYTES</th>\n      <th>IN_PKTS</th>\n      <th>OUT_BYTES</th>\n      <th>OUT_PKTS</th>\n      <th>TCP_FLAGS</th>\n      <th>CLIENT_TCP_FLAGS</th>\n      <th>SERVER_TCP_FLAGS</th>\n      <th>...</th>\n      <th>NUM_PKTS_1024_TO_1514_BYTES</th>\n      <th>TCP_WIN_MAX_IN</th>\n      <th>TCP_WIN_MAX_OUT</th>\n      <th>ICMP_TYPE</th>\n      <th>ICMP_IPV4_TYPE</th>\n      <th>DNS_QUERY_ID</th>\n      <th>DNS_QUERY_TYPE</th>\n      <th>DNS_TTL_ANSWER</th>\n      <th>Label</th>\n      <th>Attack</th>\n    </tr>\n  </thead>\n  <tbody>\n    <tr>\n      <th>0</th>\n      <td>65389</td>\n      <td>80</td>\n      <td>6</td>\n      <td>420</td>\n      <td>3</td>\n      <td>0</td>\n      <td>0</td>\n      <td>2</td>\n      <td>2</td>\n      <td>0</td>\n      <td>...</td>\n      <td>0</td>\n      <td>512</td>\n      <td>0</td>\n      <td>35840</td>\n      <td>140</td>\n      <td>0</td>\n      <td>0</td>\n      <td>0</td>\n      <td>1</td>\n      <td>1</td>\n    </tr>\n    <tr>\n      <th>1</th>\n      <td>11154</td>\n      <td>80</td>\n      <td>6</td>\n      <td>280</td>\n      <td>2</td>\n      <td>40</td>\n      <td>1</td>\n      <td>22</td>\n      <td>2</td>\n      <td>20</td>\n      <td>...</td>\n      <td>0</td>\n      <td>512</td>\n      <td>0</td>\n      <td>0</td>\n      <td>0</td>\n      <td>0</td>\n      <td>0</td>\n      <td>0</td>\n      <td>1</td>\n      <td>1</td>\n    </tr>\n    <tr>\n      <th>2</th>\n      <td>42062</td>\n      <td>1041</td>\n      <td>6</td>\n      <td>44</td>\n      <td>1</td>\n      <td>40</td>\n      <td>1</td>\n      <td>22</td>\n      <td>2</td>\n      <td>20</td>\n      <td>...</td>\n      <td>0</td>\n      <td>1024</td>\n      <td>0</td>\n      <td>0</td>\n      <td>0</td>\n      <td>0</td>\n      <td>0</td>\n      <td>0</td>\n      <td>0</td>\n      <td>0</td>\n    </tr>\n    <tr>\n      <th>3</th>\n      <td>46849</td>\n      <td>9110</td>\n      <td>6</td>\n      <td>44</td>\n      <td>1</td>\n      <td>40</td>\n      <td>1</td>\n      <td>22</td>\n      <td>2</td>\n      <td>20</td>\n      <td>...</td>\n      <td>0</td>\n      <td>1024</td>\n      <td>0</td>\n      <td>0</td>\n      <td>0</td>\n      <td>0</td>\n      <td>0</td>\n      <td>0</td>\n      <td>0</td>\n      <td>0</td>\n    </tr>\n    <tr>\n      <th>4</th>\n      <td>50360</td>\n      <td>1084</td>\n      <td>6</td>\n      <td>44</td>\n      <td>1</td>\n      <td>40</td>\n      <td>1</td>\n      <td>22</td>\n      <td>2</td>\n      <td>20</td>\n      <td>...</td>\n      <td>0</td>\n      <td>1024</td>\n      <td>0</td>\n      <td>0</td>\n      <td>0</td>\n      <td>0</td>\n      <td>0</td>\n      <td>0</td>\n      <td>0</td>\n      <td>0</td>\n    </tr>\n  </tbody>\n</table>\n<p>5 rows × 39 columns</p>\n</div>"
     },
     "execution_count": 44,
     "metadata": {},
     "output_type": "execute_result"
    }
   ],
   "source": [
    "data.head()"
   ],
   "metadata": {
    "collapsed": false,
    "ExecuteTime": {
     "end_time": "2024-11-30T12:12:40.573173Z",
     "start_time": "2024-11-30T12:12:40.560685Z"
    }
   },
   "id": "597be47786a445fc",
   "execution_count": 44
  },
  {
   "cell_type": "code",
   "outputs": [
    {
     "name": "stdout",
     "output_type": "stream",
     "text": [
      "<class 'pandas.core.frame.DataFrame'>\n",
      "RangeIndex: 850145 entries, 0 to 850144\n",
      "Data columns (total 39 columns):\n",
      " #   Column                       Non-Null Count   Dtype\n",
      "---  ------                       --------------   -----\n",
      " 0   L4_SRC_PORT                  850145 non-null  int64\n",
      " 1   L4_DST_PORT                  850145 non-null  int64\n",
      " 2   PROTOCOL                     850145 non-null  int64\n",
      " 3   IN_BYTES                     850145 non-null  int64\n",
      " 4   IN_PKTS                      850145 non-null  int64\n",
      " 5   OUT_BYTES                    850145 non-null  int64\n",
      " 6   OUT_PKTS                     850145 non-null  int64\n",
      " 7   TCP_FLAGS                    850145 non-null  int64\n",
      " 8   CLIENT_TCP_FLAGS             850145 non-null  int64\n",
      " 9   SERVER_TCP_FLAGS             850145 non-null  int64\n",
      " 10  FLOW_DURATION_MILLISECONDS   850145 non-null  int64\n",
      " 11  DURATION_IN                  850145 non-null  int64\n",
      " 12  DURATION_OUT                 850145 non-null  int64\n",
      " 13  MIN_TTL                      850145 non-null  int64\n",
      " 14  MAX_TTL                      850145 non-null  int64\n",
      " 15  LONGEST_FLOW_PKT             850145 non-null  int64\n",
      " 16  SHORTEST_FLOW_PKT            850145 non-null  int64\n",
      " 17  MIN_IP_PKT_LEN               850145 non-null  int64\n",
      " 18  MAX_IP_PKT_LEN               850145 non-null  int64\n",
      " 19  RETRANSMITTED_IN_BYTES       850145 non-null  int64\n",
      " 20  RETRANSMITTED_IN_PKTS        850145 non-null  int64\n",
      " 21  RETRANSMITTED_OUT_BYTES      850145 non-null  int64\n",
      " 22  RETRANSMITTED_OUT_PKTS       850145 non-null  int64\n",
      " 23  SRC_TO_DST_AVG_THROUGHPUT    850145 non-null  int64\n",
      " 24  DST_TO_SRC_AVG_THROUGHPUT    850145 non-null  int64\n",
      " 25  NUM_PKTS_UP_TO_128_BYTES     850145 non-null  int64\n",
      " 26  NUM_PKTS_128_TO_256_BYTES    850145 non-null  int64\n",
      " 27  NUM_PKTS_256_TO_512_BYTES    850145 non-null  int64\n",
      " 28  NUM_PKTS_512_TO_1024_BYTES   850145 non-null  int64\n",
      " 29  NUM_PKTS_1024_TO_1514_BYTES  850145 non-null  int64\n",
      " 30  TCP_WIN_MAX_IN               850145 non-null  int64\n",
      " 31  TCP_WIN_MAX_OUT              850145 non-null  int64\n",
      " 32  ICMP_TYPE                    850145 non-null  int64\n",
      " 33  ICMP_IPV4_TYPE               850145 non-null  int64\n",
      " 34  DNS_QUERY_ID                 850145 non-null  int64\n",
      " 35  DNS_QUERY_TYPE               850145 non-null  int64\n",
      " 36  DNS_TTL_ANSWER               850145 non-null  int64\n",
      " 37  Label                        850145 non-null  int64\n",
      " 38  Attack                       850145 non-null  int64\n",
      "dtypes: int64(39)\n",
      "memory usage: 253.0 MB\n"
     ]
    }
   ],
   "source": [
    "data.info()"
   ],
   "metadata": {
    "collapsed": false,
    "ExecuteTime": {
     "end_time": "2024-11-30T12:12:40.672793Z",
     "start_time": "2024-11-30T12:12:40.574256Z"
    }
   },
   "id": "3458fe3f90835a07",
   "execution_count": 45
  },
  {
   "cell_type": "code",
   "outputs": [
    {
     "data": {
      "text/plain": "array([1, 0], dtype=int64)"
     },
     "execution_count": 46,
     "metadata": {},
     "output_type": "execute_result"
    }
   ],
   "source": [
    "data['Label'].unique()"
   ],
   "metadata": {
    "collapsed": false,
    "ExecuteTime": {
     "end_time": "2024-11-30T12:12:40.690350Z",
     "start_time": "2024-11-30T12:12:40.674188Z"
    }
   },
   "id": "89b85c9f3292b160",
   "execution_count": 46
  },
  {
   "cell_type": "code",
   "outputs": [],
   "source": [
    "drop_purposed_column= {\n",
    "    'Label',\n",
    "    'Attack'\n",
    "}\n",
    "label = data['Label']\n",
    "attack = data['Attack']"
   ],
   "metadata": {
    "collapsed": false,
    "ExecuteTime": {
     "end_time": "2024-11-30T12:12:40.698619Z",
     "start_time": "2024-11-30T12:12:40.693906Z"
    }
   },
   "id": "a8eb5de10515681e",
   "execution_count": 47
  },
  {
   "cell_type": "code",
   "outputs": [],
   "source": [
    "data.drop(columns=drop_purposed_column, inplace=True)\n"
   ],
   "metadata": {
    "collapsed": false,
    "ExecuteTime": {
     "end_time": "2024-11-30T12:12:40.752694Z",
     "start_time": "2024-11-30T12:12:40.701059Z"
    }
   },
   "id": "6dae909e0832cf51",
   "execution_count": 48
  },
  {
   "cell_type": "code",
   "outputs": [
    {
     "data": {
      "text/plain": "Index(['L4_SRC_PORT', 'L4_DST_PORT', 'PROTOCOL', 'IN_BYTES', 'IN_PKTS',\n       'OUT_BYTES', 'OUT_PKTS', 'TCP_FLAGS', 'CLIENT_TCP_FLAGS',\n       'SERVER_TCP_FLAGS', 'FLOW_DURATION_MILLISECONDS', 'DURATION_IN',\n       'DURATION_OUT', 'MIN_TTL', 'MAX_TTL', 'LONGEST_FLOW_PKT',\n       'SHORTEST_FLOW_PKT', 'MIN_IP_PKT_LEN', 'MAX_IP_PKT_LEN',\n       'RETRANSMITTED_IN_BYTES', 'RETRANSMITTED_IN_PKTS',\n       'RETRANSMITTED_OUT_BYTES', 'RETRANSMITTED_OUT_PKTS',\n       'SRC_TO_DST_AVG_THROUGHPUT', 'DST_TO_SRC_AVG_THROUGHPUT',\n       'NUM_PKTS_UP_TO_128_BYTES', 'NUM_PKTS_128_TO_256_BYTES',\n       'NUM_PKTS_256_TO_512_BYTES', 'NUM_PKTS_512_TO_1024_BYTES',\n       'NUM_PKTS_1024_TO_1514_BYTES', 'TCP_WIN_MAX_IN', 'TCP_WIN_MAX_OUT',\n       'ICMP_TYPE', 'ICMP_IPV4_TYPE', 'DNS_QUERY_ID', 'DNS_QUERY_TYPE',\n       'DNS_TTL_ANSWER'],\n      dtype='object')"
     },
     "execution_count": 49,
     "metadata": {},
     "output_type": "execute_result"
    }
   ],
   "source": [
    "data.columns"
   ],
   "metadata": {
    "collapsed": false,
    "ExecuteTime": {
     "end_time": "2024-11-30T12:12:40.763276Z",
     "start_time": "2024-11-30T12:12:40.754845Z"
    }
   },
   "id": "b7f1b0108a2507be",
   "execution_count": 49
  },
  {
   "cell_type": "code",
   "outputs": [
    {
     "data": {
      "text/plain": "count    850145.000000\nmean          0.669029\nstd           0.470563\nmin           0.000000\n25%           0.000000\n50%           1.000000\n75%           1.000000\nmax           1.000000\nName: Label, dtype: float64"
     },
     "execution_count": 50,
     "metadata": {},
     "output_type": "execute_result"
    }
   ],
   "source": [
    "label.describe()"
   ],
   "metadata": {
    "collapsed": false,
    "ExecuteTime": {
     "end_time": "2024-11-30T12:12:40.794387Z",
     "start_time": "2024-11-30T12:12:40.764406Z"
    }
   },
   "id": "93f31b2eb179370a",
   "execution_count": 50
  },
  {
   "cell_type": "code",
   "outputs": [],
   "source": [
    "# label.replace(1,-1, inplace=True)\n",
    "label.replace(0,-1, inplace=True)\n"
   ],
   "metadata": {
    "collapsed": false,
    "ExecuteTime": {
     "end_time": "2024-11-30T12:12:40.806765Z",
     "start_time": "2024-11-30T12:12:40.795448Z"
    }
   },
   "id": "3367913b12ad829a",
   "execution_count": 51
  },
  {
   "cell_type": "code",
   "outputs": [
    {
     "data": {
      "text/plain": "count    850145.000000\nmean          0.338059\nstd           0.941126\nmin          -1.000000\n25%          -1.000000\n50%           1.000000\n75%           1.000000\nmax           1.000000\nName: Label, dtype: float64"
     },
     "execution_count": 52,
     "metadata": {},
     "output_type": "execute_result"
    }
   ],
   "source": [
    "label.describe()"
   ],
   "metadata": {
    "collapsed": false,
    "ExecuteTime": {
     "end_time": "2024-11-30T12:12:40.834558Z",
     "start_time": "2024-11-30T12:12:40.807854Z"
    }
   },
   "id": "b500f77971436a5f",
   "execution_count": 52
  },
  {
   "cell_type": "code",
   "outputs": [
    {
     "name": "stdout",
     "output_type": "stream",
     "text": [
      "<class 'pandas.core.frame.DataFrame'>\n",
      "RangeIndex: 850145 entries, 0 to 850144\n",
      "Data columns (total 37 columns):\n",
      " #   Column                       Non-Null Count   Dtype\n",
      "---  ------                       --------------   -----\n",
      " 0   L4_SRC_PORT                  850145 non-null  int64\n",
      " 1   L4_DST_PORT                  850145 non-null  int64\n",
      " 2   PROTOCOL                     850145 non-null  int64\n",
      " 3   IN_BYTES                     850145 non-null  int64\n",
      " 4   IN_PKTS                      850145 non-null  int64\n",
      " 5   OUT_BYTES                    850145 non-null  int64\n",
      " 6   OUT_PKTS                     850145 non-null  int64\n",
      " 7   TCP_FLAGS                    850145 non-null  int64\n",
      " 8   CLIENT_TCP_FLAGS             850145 non-null  int64\n",
      " 9   SERVER_TCP_FLAGS             850145 non-null  int64\n",
      " 10  FLOW_DURATION_MILLISECONDS   850145 non-null  int64\n",
      " 11  DURATION_IN                  850145 non-null  int64\n",
      " 12  DURATION_OUT                 850145 non-null  int64\n",
      " 13  MIN_TTL                      850145 non-null  int64\n",
      " 14  MAX_TTL                      850145 non-null  int64\n",
      " 15  LONGEST_FLOW_PKT             850145 non-null  int64\n",
      " 16  SHORTEST_FLOW_PKT            850145 non-null  int64\n",
      " 17  MIN_IP_PKT_LEN               850145 non-null  int64\n",
      " 18  MAX_IP_PKT_LEN               850145 non-null  int64\n",
      " 19  RETRANSMITTED_IN_BYTES       850145 non-null  int64\n",
      " 20  RETRANSMITTED_IN_PKTS        850145 non-null  int64\n",
      " 21  RETRANSMITTED_OUT_BYTES      850145 non-null  int64\n",
      " 22  RETRANSMITTED_OUT_PKTS       850145 non-null  int64\n",
      " 23  SRC_TO_DST_AVG_THROUGHPUT    850145 non-null  int64\n",
      " 24  DST_TO_SRC_AVG_THROUGHPUT    850145 non-null  int64\n",
      " 25  NUM_PKTS_UP_TO_128_BYTES     850145 non-null  int64\n",
      " 26  NUM_PKTS_128_TO_256_BYTES    850145 non-null  int64\n",
      " 27  NUM_PKTS_256_TO_512_BYTES    850145 non-null  int64\n",
      " 28  NUM_PKTS_512_TO_1024_BYTES   850145 non-null  int64\n",
      " 29  NUM_PKTS_1024_TO_1514_BYTES  850145 non-null  int64\n",
      " 30  TCP_WIN_MAX_IN               850145 non-null  int64\n",
      " 31  TCP_WIN_MAX_OUT              850145 non-null  int64\n",
      " 32  ICMP_TYPE                    850145 non-null  int64\n",
      " 33  ICMP_IPV4_TYPE               850145 non-null  int64\n",
      " 34  DNS_QUERY_ID                 850145 non-null  int64\n",
      " 35  DNS_QUERY_TYPE               850145 non-null  int64\n",
      " 36  DNS_TTL_ANSWER               850145 non-null  int64\n",
      "dtypes: int64(37)\n",
      "memory usage: 240.0 MB\n"
     ]
    }
   ],
   "source": [
    "data.info()"
   ],
   "metadata": {
    "collapsed": false,
    "ExecuteTime": {
     "end_time": "2024-11-30T12:12:40.884671Z",
     "start_time": "2024-11-30T12:12:40.836974Z"
    }
   },
   "id": "a1751eb12838cae6",
   "execution_count": 53
  },
  {
   "cell_type": "code",
   "outputs": [],
   "source": [
    "IsolationForest_model= IsolationForest()"
   ],
   "metadata": {
    "collapsed": false,
    "ExecuteTime": {
     "end_time": "2024-11-30T12:12:40.892402Z",
     "start_time": "2024-11-30T12:12:40.885750Z"
    }
   },
   "id": "5d054b8b0534a1a7",
   "execution_count": 54
  },
  {
   "cell_type": "code",
   "outputs": [
    {
     "name": "stdout",
     "output_type": "stream",
     "text": [
      "Demo IF prediction\n"
     ]
    },
    {
     "data": {
      "text/plain": "IsolationForest()",
      "text/html": "<style>#sk-container-id-2 {\n  /* Definition of color scheme common for light and dark mode */\n  --sklearn-color-text: black;\n  --sklearn-color-line: gray;\n  /* Definition of color scheme for unfitted estimators */\n  --sklearn-color-unfitted-level-0: #fff5e6;\n  --sklearn-color-unfitted-level-1: #f6e4d2;\n  --sklearn-color-unfitted-level-2: #ffe0b3;\n  --sklearn-color-unfitted-level-3: chocolate;\n  /* Definition of color scheme for fitted estimators */\n  --sklearn-color-fitted-level-0: #f0f8ff;\n  --sklearn-color-fitted-level-1: #d4ebff;\n  --sklearn-color-fitted-level-2: #b3dbfd;\n  --sklearn-color-fitted-level-3: cornflowerblue;\n\n  /* Specific color for light theme */\n  --sklearn-color-text-on-default-background: var(--sg-text-color, var(--theme-code-foreground, var(--jp-content-font-color1, black)));\n  --sklearn-color-background: var(--sg-background-color, var(--theme-background, var(--jp-layout-color0, white)));\n  --sklearn-color-border-box: var(--sg-text-color, var(--theme-code-foreground, var(--jp-content-font-color1, black)));\n  --sklearn-color-icon: #696969;\n\n  @media (prefers-color-scheme: dark) {\n    /* Redefinition of color scheme for dark theme */\n    --sklearn-color-text-on-default-background: var(--sg-text-color, var(--theme-code-foreground, var(--jp-content-font-color1, white)));\n    --sklearn-color-background: var(--sg-background-color, var(--theme-background, var(--jp-layout-color0, #111)));\n    --sklearn-color-border-box: var(--sg-text-color, var(--theme-code-foreground, var(--jp-content-font-color1, white)));\n    --sklearn-color-icon: #878787;\n  }\n}\n\n#sk-container-id-2 {\n  color: var(--sklearn-color-text);\n}\n\n#sk-container-id-2 pre {\n  padding: 0;\n}\n\n#sk-container-id-2 input.sk-hidden--visually {\n  border: 0;\n  clip: rect(1px 1px 1px 1px);\n  clip: rect(1px, 1px, 1px, 1px);\n  height: 1px;\n  margin: -1px;\n  overflow: hidden;\n  padding: 0;\n  position: absolute;\n  width: 1px;\n}\n\n#sk-container-id-2 div.sk-dashed-wrapped {\n  border: 1px dashed var(--sklearn-color-line);\n  margin: 0 0.4em 0.5em 0.4em;\n  box-sizing: border-box;\n  padding-bottom: 0.4em;\n  background-color: var(--sklearn-color-background);\n}\n\n#sk-container-id-2 div.sk-container {\n  /* jupyter's `normalize.less` sets `[hidden] { display: none; }`\n     but bootstrap.min.css set `[hidden] { display: none !important; }`\n     so we also need the `!important` here to be able to override the\n     default hidden behavior on the sphinx rendered scikit-learn.org.\n     See: https://github.com/scikit-learn/scikit-learn/issues/21755 */\n  display: inline-block !important;\n  position: relative;\n}\n\n#sk-container-id-2 div.sk-text-repr-fallback {\n  display: none;\n}\n\ndiv.sk-parallel-item,\ndiv.sk-serial,\ndiv.sk-item {\n  /* draw centered vertical line to link estimators */\n  background-image: linear-gradient(var(--sklearn-color-text-on-default-background), var(--sklearn-color-text-on-default-background));\n  background-size: 2px 100%;\n  background-repeat: no-repeat;\n  background-position: center center;\n}\n\n/* Parallel-specific style estimator block */\n\n#sk-container-id-2 div.sk-parallel-item::after {\n  content: \"\";\n  width: 100%;\n  border-bottom: 2px solid var(--sklearn-color-text-on-default-background);\n  flex-grow: 1;\n}\n\n#sk-container-id-2 div.sk-parallel {\n  display: flex;\n  align-items: stretch;\n  justify-content: center;\n  background-color: var(--sklearn-color-background);\n  position: relative;\n}\n\n#sk-container-id-2 div.sk-parallel-item {\n  display: flex;\n  flex-direction: column;\n}\n\n#sk-container-id-2 div.sk-parallel-item:first-child::after {\n  align-self: flex-end;\n  width: 50%;\n}\n\n#sk-container-id-2 div.sk-parallel-item:last-child::after {\n  align-self: flex-start;\n  width: 50%;\n}\n\n#sk-container-id-2 div.sk-parallel-item:only-child::after {\n  width: 0;\n}\n\n/* Serial-specific style estimator block */\n\n#sk-container-id-2 div.sk-serial {\n  display: flex;\n  flex-direction: column;\n  align-items: center;\n  background-color: var(--sklearn-color-background);\n  padding-right: 1em;\n  padding-left: 1em;\n}\n\n\n/* Toggleable style: style used for estimator/Pipeline/ColumnTransformer box that is\nclickable and can be expanded/collapsed.\n- Pipeline and ColumnTransformer use this feature and define the default style\n- Estimators will overwrite some part of the style using the `sk-estimator` class\n*/\n\n/* Pipeline and ColumnTransformer style (default) */\n\n#sk-container-id-2 div.sk-toggleable {\n  /* Default theme specific background. It is overwritten whether we have a\n  specific estimator or a Pipeline/ColumnTransformer */\n  background-color: var(--sklearn-color-background);\n}\n\n/* Toggleable label */\n#sk-container-id-2 label.sk-toggleable__label {\n  cursor: pointer;\n  display: block;\n  width: 100%;\n  margin-bottom: 0;\n  padding: 0.5em;\n  box-sizing: border-box;\n  text-align: center;\n}\n\n#sk-container-id-2 label.sk-toggleable__label-arrow:before {\n  /* Arrow on the left of the label */\n  content: \"▸\";\n  float: left;\n  margin-right: 0.25em;\n  color: var(--sklearn-color-icon);\n}\n\n#sk-container-id-2 label.sk-toggleable__label-arrow:hover:before {\n  color: var(--sklearn-color-text);\n}\n\n/* Toggleable content - dropdown */\n\n#sk-container-id-2 div.sk-toggleable__content {\n  max-height: 0;\n  max-width: 0;\n  overflow: hidden;\n  text-align: left;\n  /* unfitted */\n  background-color: var(--sklearn-color-unfitted-level-0);\n}\n\n#sk-container-id-2 div.sk-toggleable__content.fitted {\n  /* fitted */\n  background-color: var(--sklearn-color-fitted-level-0);\n}\n\n#sk-container-id-2 div.sk-toggleable__content pre {\n  margin: 0.2em;\n  border-radius: 0.25em;\n  color: var(--sklearn-color-text);\n  /* unfitted */\n  background-color: var(--sklearn-color-unfitted-level-0);\n}\n\n#sk-container-id-2 div.sk-toggleable__content.fitted pre {\n  /* unfitted */\n  background-color: var(--sklearn-color-fitted-level-0);\n}\n\n#sk-container-id-2 input.sk-toggleable__control:checked~div.sk-toggleable__content {\n  /* Expand drop-down */\n  max-height: 200px;\n  max-width: 100%;\n  overflow: auto;\n}\n\n#sk-container-id-2 input.sk-toggleable__control:checked~label.sk-toggleable__label-arrow:before {\n  content: \"▾\";\n}\n\n/* Pipeline/ColumnTransformer-specific style */\n\n#sk-container-id-2 div.sk-label input.sk-toggleable__control:checked~label.sk-toggleable__label {\n  color: var(--sklearn-color-text);\n  background-color: var(--sklearn-color-unfitted-level-2);\n}\n\n#sk-container-id-2 div.sk-label.fitted input.sk-toggleable__control:checked~label.sk-toggleable__label {\n  background-color: var(--sklearn-color-fitted-level-2);\n}\n\n/* Estimator-specific style */\n\n/* Colorize estimator box */\n#sk-container-id-2 div.sk-estimator input.sk-toggleable__control:checked~label.sk-toggleable__label {\n  /* unfitted */\n  background-color: var(--sklearn-color-unfitted-level-2);\n}\n\n#sk-container-id-2 div.sk-estimator.fitted input.sk-toggleable__control:checked~label.sk-toggleable__label {\n  /* fitted */\n  background-color: var(--sklearn-color-fitted-level-2);\n}\n\n#sk-container-id-2 div.sk-label label.sk-toggleable__label,\n#sk-container-id-2 div.sk-label label {\n  /* The background is the default theme color */\n  color: var(--sklearn-color-text-on-default-background);\n}\n\n/* On hover, darken the color of the background */\n#sk-container-id-2 div.sk-label:hover label.sk-toggleable__label {\n  color: var(--sklearn-color-text);\n  background-color: var(--sklearn-color-unfitted-level-2);\n}\n\n/* Label box, darken color on hover, fitted */\n#sk-container-id-2 div.sk-label.fitted:hover label.sk-toggleable__label.fitted {\n  color: var(--sklearn-color-text);\n  background-color: var(--sklearn-color-fitted-level-2);\n}\n\n/* Estimator label */\n\n#sk-container-id-2 div.sk-label label {\n  font-family: monospace;\n  font-weight: bold;\n  display: inline-block;\n  line-height: 1.2em;\n}\n\n#sk-container-id-2 div.sk-label-container {\n  text-align: center;\n}\n\n/* Estimator-specific */\n#sk-container-id-2 div.sk-estimator {\n  font-family: monospace;\n  border: 1px dotted var(--sklearn-color-border-box);\n  border-radius: 0.25em;\n  box-sizing: border-box;\n  margin-bottom: 0.5em;\n  /* unfitted */\n  background-color: var(--sklearn-color-unfitted-level-0);\n}\n\n#sk-container-id-2 div.sk-estimator.fitted {\n  /* fitted */\n  background-color: var(--sklearn-color-fitted-level-0);\n}\n\n/* on hover */\n#sk-container-id-2 div.sk-estimator:hover {\n  /* unfitted */\n  background-color: var(--sklearn-color-unfitted-level-2);\n}\n\n#sk-container-id-2 div.sk-estimator.fitted:hover {\n  /* fitted */\n  background-color: var(--sklearn-color-fitted-level-2);\n}\n\n/* Specification for estimator info (e.g. \"i\" and \"?\") */\n\n/* Common style for \"i\" and \"?\" */\n\n.sk-estimator-doc-link,\na:link.sk-estimator-doc-link,\na:visited.sk-estimator-doc-link {\n  float: right;\n  font-size: smaller;\n  line-height: 1em;\n  font-family: monospace;\n  background-color: var(--sklearn-color-background);\n  border-radius: 1em;\n  height: 1em;\n  width: 1em;\n  text-decoration: none !important;\n  margin-left: 1ex;\n  /* unfitted */\n  border: var(--sklearn-color-unfitted-level-1) 1pt solid;\n  color: var(--sklearn-color-unfitted-level-1);\n}\n\n.sk-estimator-doc-link.fitted,\na:link.sk-estimator-doc-link.fitted,\na:visited.sk-estimator-doc-link.fitted {\n  /* fitted */\n  border: var(--sklearn-color-fitted-level-1) 1pt solid;\n  color: var(--sklearn-color-fitted-level-1);\n}\n\n/* On hover */\ndiv.sk-estimator:hover .sk-estimator-doc-link:hover,\n.sk-estimator-doc-link:hover,\ndiv.sk-label-container:hover .sk-estimator-doc-link:hover,\n.sk-estimator-doc-link:hover {\n  /* unfitted */\n  background-color: var(--sklearn-color-unfitted-level-3);\n  color: var(--sklearn-color-background);\n  text-decoration: none;\n}\n\ndiv.sk-estimator.fitted:hover .sk-estimator-doc-link.fitted:hover,\n.sk-estimator-doc-link.fitted:hover,\ndiv.sk-label-container:hover .sk-estimator-doc-link.fitted:hover,\n.sk-estimator-doc-link.fitted:hover {\n  /* fitted */\n  background-color: var(--sklearn-color-fitted-level-3);\n  color: var(--sklearn-color-background);\n  text-decoration: none;\n}\n\n/* Span, style for the box shown on hovering the info icon */\n.sk-estimator-doc-link span {\n  display: none;\n  z-index: 9999;\n  position: relative;\n  font-weight: normal;\n  right: .2ex;\n  padding: .5ex;\n  margin: .5ex;\n  width: min-content;\n  min-width: 20ex;\n  max-width: 50ex;\n  color: var(--sklearn-color-text);\n  box-shadow: 2pt 2pt 4pt #999;\n  /* unfitted */\n  background: var(--sklearn-color-unfitted-level-0);\n  border: .5pt solid var(--sklearn-color-unfitted-level-3);\n}\n\n.sk-estimator-doc-link.fitted span {\n  /* fitted */\n  background: var(--sklearn-color-fitted-level-0);\n  border: var(--sklearn-color-fitted-level-3);\n}\n\n.sk-estimator-doc-link:hover span {\n  display: block;\n}\n\n/* \"?\"-specific style due to the `<a>` HTML tag */\n\n#sk-container-id-2 a.estimator_doc_link {\n  float: right;\n  font-size: 1rem;\n  line-height: 1em;\n  font-family: monospace;\n  background-color: var(--sklearn-color-background);\n  border-radius: 1rem;\n  height: 1rem;\n  width: 1rem;\n  text-decoration: none;\n  /* unfitted */\n  color: var(--sklearn-color-unfitted-level-1);\n  border: var(--sklearn-color-unfitted-level-1) 1pt solid;\n}\n\n#sk-container-id-2 a.estimator_doc_link.fitted {\n  /* fitted */\n  border: var(--sklearn-color-fitted-level-1) 1pt solid;\n  color: var(--sklearn-color-fitted-level-1);\n}\n\n/* On hover */\n#sk-container-id-2 a.estimator_doc_link:hover {\n  /* unfitted */\n  background-color: var(--sklearn-color-unfitted-level-3);\n  color: var(--sklearn-color-background);\n  text-decoration: none;\n}\n\n#sk-container-id-2 a.estimator_doc_link.fitted:hover {\n  /* fitted */\n  background-color: var(--sklearn-color-fitted-level-3);\n}\n</style><div id=\"sk-container-id-2\" class=\"sk-top-container\"><div class=\"sk-text-repr-fallback\"><pre>IsolationForest()</pre><b>In a Jupyter environment, please rerun this cell to show the HTML representation or trust the notebook. <br />On GitHub, the HTML representation is unable to render, please try loading this page with nbviewer.org.</b></div><div class=\"sk-container\" hidden><div class=\"sk-item\"><div class=\"sk-estimator fitted sk-toggleable\"><input class=\"sk-toggleable__control sk-hidden--visually\" id=\"sk-estimator-id-2\" type=\"checkbox\" checked><label for=\"sk-estimator-id-2\" class=\"sk-toggleable__label fitted sk-toggleable__label-arrow fitted\">&nbsp;&nbsp;IsolationForest<a class=\"sk-estimator-doc-link fitted\" rel=\"noreferrer\" target=\"_blank\" href=\"https://scikit-learn.org/1.5/modules/generated/sklearn.ensemble.IsolationForest.html\">?<span>Documentation for IsolationForest</span></a><span class=\"sk-estimator-doc-link fitted\">i<span>Fitted</span></span></label><div class=\"sk-toggleable__content fitted\"><pre>IsolationForest()</pre></div> </div></div></div></div>"
     },
     "execution_count": 55,
     "metadata": {},
     "output_type": "execute_result"
    }
   ],
   "source": [
    "from sklearn.metrics import f1_score, roc_auc_score, confusion_matrix\n",
    "\n",
    "print('Demo IF prediction')\n",
    "IsolationForest_model.fit(data)\n"
   ],
   "metadata": {
    "collapsed": false,
    "ExecuteTime": {
     "end_time": "2024-11-30T12:12:41.885227Z",
     "start_time": "2024-11-30T12:12:40.893476Z"
    }
   },
   "id": "644883f333c4d92a",
   "execution_count": 55
  },
  {
   "cell_type": "code",
   "outputs": [
    {
     "data": {
      "text/plain": "array([ 0.02994804,  0.1022707 ,  0.13901299, ...,  0.10039039,\n        0.05918965, -0.00346168])"
     },
     "execution_count": 56,
     "metadata": {},
     "output_type": "execute_result"
    }
   ],
   "source": [
    "IsolationForest_model.decision_function(data)"
   ],
   "metadata": {
    "collapsed": false,
    "ExecuteTime": {
     "end_time": "2024-11-30T12:12:45.515912Z",
     "start_time": "2024-11-30T12:12:41.887439Z"
    }
   },
   "id": "b7f993fb1c6a0580",
   "execution_count": 56
  },
  {
   "cell_type": "code",
   "outputs": [],
   "source": [
    "y_pred = IsolationForest_model.predict(data)"
   ],
   "metadata": {
    "collapsed": false,
    "ExecuteTime": {
     "end_time": "2024-11-30T12:12:49.256510Z",
     "start_time": "2024-11-30T12:12:45.517963Z"
    }
   },
   "id": "e722f3a15cc3118a",
   "execution_count": 57
  },
  {
   "cell_type": "code",
   "outputs": [
    {
     "data": {
      "text/plain": "array([ 1,  1,  1, ...,  1,  1, -1])"
     },
     "execution_count": 58,
     "metadata": {},
     "output_type": "execute_result"
    }
   ],
   "source": [
    "y_pred"
   ],
   "metadata": {
    "collapsed": false,
    "ExecuteTime": {
     "end_time": "2024-11-30T12:12:49.261833Z",
     "start_time": "2024-11-30T12:12:49.257558Z"
    }
   },
   "id": "c23e88226794583d",
   "execution_count": 58
  },
  {
   "cell_type": "code",
   "outputs": [],
   "source": [
    "data['scores'] = IsolationForest_model.decision_function(data)"
   ],
   "metadata": {
    "collapsed": false,
    "ExecuteTime": {
     "end_time": "2024-11-30T12:12:53.080930Z",
     "start_time": "2024-11-30T12:12:49.262891Z"
    }
   },
   "id": "f4b68c5bc0bb5729",
   "execution_count": 59
  },
  {
   "cell_type": "code",
   "outputs": [
    {
     "data": {
      "text/plain": "        L4_SRC_PORT  L4_DST_PORT  PROTOCOL  IN_BYTES  IN_PKTS  OUT_BYTES  \\\n0             65389           80         6       420        3          0   \n1             11154           80         6       280        2         40   \n2             42062         1041         6        44        1         40   \n3             46849         9110         6        44        1         40   \n4             50360         1084         6        44        1         40   \n...             ...          ...       ...       ...      ...        ...   \n850140        40400           80         6       280        2          0   \n850141        57979           80         6       280        2          0   \n850142         5520           80        17       140        5          0   \n850143        55682           80         6       360        4         88   \n850144        59438           80         6       523        5       1147   \n\n        OUT_PKTS  TCP_FLAGS  CLIENT_TCP_FLAGS  SERVER_TCP_FLAGS  ...  \\\n0              0          2                 2                 0  ...   \n1              1         22                 2                20  ...   \n2              1         22                 2                20  ...   \n3              1         22                 2                20  ...   \n4              1         22                 2                20  ...   \n...          ...        ...               ...               ...  ...   \n850140         0          2                 2                 0  ...   \n850141         0          2                 2                 0  ...   \n850142         0          0                 0                 0  ...   \n850143         2         22                 6                18  ...   \n850144         5        219               219                27  ...   \n\n        NUM_PKTS_512_TO_1024_BYTES  NUM_PKTS_1024_TO_1514_BYTES  \\\n0                                0                            0   \n1                                0                            0   \n2                                0                            0   \n3                                0                            0   \n4                                0                            0   \n...                            ...                          ...   \n850140                           0                            0   \n850141                           0                            0   \n850142                           0                            0   \n850143                           0                            0   \n850144                           1                            0   \n\n        TCP_WIN_MAX_IN  TCP_WIN_MAX_OUT  ICMP_TYPE  ICMP_IPV4_TYPE  \\\n0                  512                0      35840             140   \n1                  512                0          0               0   \n2                 1024                0          0               0   \n3                 1024                0          0               0   \n4                 1024                0          0               0   \n...                ...              ...        ...             ...   \n850140             512                0          0               0   \n850141             512                0          0               0   \n850142               0                0          0               0   \n850143             512            29200          0               0   \n850144           65535            26883          0               0   \n\n        DNS_QUERY_ID  DNS_QUERY_TYPE  DNS_TTL_ANSWER    scores  \n0                  0               0               0  0.029948  \n1                  0               0               0  0.102271  \n2                  0               0               0  0.139013  \n3                  0               0               0  0.135394  \n4                  0               0               0  0.140504  \n...              ...             ...             ...       ...  \n850140             0               0               0  0.117144  \n850141             0               0               0  0.113749  \n850142             0               0               0  0.100390  \n850143             0               0               0  0.059190  \n850144             0               0               0 -0.003462  \n\n[850145 rows x 38 columns]",
      "text/html": "<div>\n<style scoped>\n    .dataframe tbody tr th:only-of-type {\n        vertical-align: middle;\n    }\n\n    .dataframe tbody tr th {\n        vertical-align: top;\n    }\n\n    .dataframe thead th {\n        text-align: right;\n    }\n</style>\n<table border=\"1\" class=\"dataframe\">\n  <thead>\n    <tr style=\"text-align: right;\">\n      <th></th>\n      <th>L4_SRC_PORT</th>\n      <th>L4_DST_PORT</th>\n      <th>PROTOCOL</th>\n      <th>IN_BYTES</th>\n      <th>IN_PKTS</th>\n      <th>OUT_BYTES</th>\n      <th>OUT_PKTS</th>\n      <th>TCP_FLAGS</th>\n      <th>CLIENT_TCP_FLAGS</th>\n      <th>SERVER_TCP_FLAGS</th>\n      <th>...</th>\n      <th>NUM_PKTS_512_TO_1024_BYTES</th>\n      <th>NUM_PKTS_1024_TO_1514_BYTES</th>\n      <th>TCP_WIN_MAX_IN</th>\n      <th>TCP_WIN_MAX_OUT</th>\n      <th>ICMP_TYPE</th>\n      <th>ICMP_IPV4_TYPE</th>\n      <th>DNS_QUERY_ID</th>\n      <th>DNS_QUERY_TYPE</th>\n      <th>DNS_TTL_ANSWER</th>\n      <th>scores</th>\n    </tr>\n  </thead>\n  <tbody>\n    <tr>\n      <th>0</th>\n      <td>65389</td>\n      <td>80</td>\n      <td>6</td>\n      <td>420</td>\n      <td>3</td>\n      <td>0</td>\n      <td>0</td>\n      <td>2</td>\n      <td>2</td>\n      <td>0</td>\n      <td>...</td>\n      <td>0</td>\n      <td>0</td>\n      <td>512</td>\n      <td>0</td>\n      <td>35840</td>\n      <td>140</td>\n      <td>0</td>\n      <td>0</td>\n      <td>0</td>\n      <td>0.029948</td>\n    </tr>\n    <tr>\n      <th>1</th>\n      <td>11154</td>\n      <td>80</td>\n      <td>6</td>\n      <td>280</td>\n      <td>2</td>\n      <td>40</td>\n      <td>1</td>\n      <td>22</td>\n      <td>2</td>\n      <td>20</td>\n      <td>...</td>\n      <td>0</td>\n      <td>0</td>\n      <td>512</td>\n      <td>0</td>\n      <td>0</td>\n      <td>0</td>\n      <td>0</td>\n      <td>0</td>\n      <td>0</td>\n      <td>0.102271</td>\n    </tr>\n    <tr>\n      <th>2</th>\n      <td>42062</td>\n      <td>1041</td>\n      <td>6</td>\n      <td>44</td>\n      <td>1</td>\n      <td>40</td>\n      <td>1</td>\n      <td>22</td>\n      <td>2</td>\n      <td>20</td>\n      <td>...</td>\n      <td>0</td>\n      <td>0</td>\n      <td>1024</td>\n      <td>0</td>\n      <td>0</td>\n      <td>0</td>\n      <td>0</td>\n      <td>0</td>\n      <td>0</td>\n      <td>0.139013</td>\n    </tr>\n    <tr>\n      <th>3</th>\n      <td>46849</td>\n      <td>9110</td>\n      <td>6</td>\n      <td>44</td>\n      <td>1</td>\n      <td>40</td>\n      <td>1</td>\n      <td>22</td>\n      <td>2</td>\n      <td>20</td>\n      <td>...</td>\n      <td>0</td>\n      <td>0</td>\n      <td>1024</td>\n      <td>0</td>\n      <td>0</td>\n      <td>0</td>\n      <td>0</td>\n      <td>0</td>\n      <td>0</td>\n      <td>0.135394</td>\n    </tr>\n    <tr>\n      <th>4</th>\n      <td>50360</td>\n      <td>1084</td>\n      <td>6</td>\n      <td>44</td>\n      <td>1</td>\n      <td>40</td>\n      <td>1</td>\n      <td>22</td>\n      <td>2</td>\n      <td>20</td>\n      <td>...</td>\n      <td>0</td>\n      <td>0</td>\n      <td>1024</td>\n      <td>0</td>\n      <td>0</td>\n      <td>0</td>\n      <td>0</td>\n      <td>0</td>\n      <td>0</td>\n      <td>0.140504</td>\n    </tr>\n    <tr>\n      <th>...</th>\n      <td>...</td>\n      <td>...</td>\n      <td>...</td>\n      <td>...</td>\n      <td>...</td>\n      <td>...</td>\n      <td>...</td>\n      <td>...</td>\n      <td>...</td>\n      <td>...</td>\n      <td>...</td>\n      <td>...</td>\n      <td>...</td>\n      <td>...</td>\n      <td>...</td>\n      <td>...</td>\n      <td>...</td>\n      <td>...</td>\n      <td>...</td>\n      <td>...</td>\n      <td>...</td>\n    </tr>\n    <tr>\n      <th>850140</th>\n      <td>40400</td>\n      <td>80</td>\n      <td>6</td>\n      <td>280</td>\n      <td>2</td>\n      <td>0</td>\n      <td>0</td>\n      <td>2</td>\n      <td>2</td>\n      <td>0</td>\n      <td>...</td>\n      <td>0</td>\n      <td>0</td>\n      <td>512</td>\n      <td>0</td>\n      <td>0</td>\n      <td>0</td>\n      <td>0</td>\n      <td>0</td>\n      <td>0</td>\n      <td>0.117144</td>\n    </tr>\n    <tr>\n      <th>850141</th>\n      <td>57979</td>\n      <td>80</td>\n      <td>6</td>\n      <td>280</td>\n      <td>2</td>\n      <td>0</td>\n      <td>0</td>\n      <td>2</td>\n      <td>2</td>\n      <td>0</td>\n      <td>...</td>\n      <td>0</td>\n      <td>0</td>\n      <td>512</td>\n      <td>0</td>\n      <td>0</td>\n      <td>0</td>\n      <td>0</td>\n      <td>0</td>\n      <td>0</td>\n      <td>0.113749</td>\n    </tr>\n    <tr>\n      <th>850142</th>\n      <td>5520</td>\n      <td>80</td>\n      <td>17</td>\n      <td>140</td>\n      <td>5</td>\n      <td>0</td>\n      <td>0</td>\n      <td>0</td>\n      <td>0</td>\n      <td>0</td>\n      <td>...</td>\n      <td>0</td>\n      <td>0</td>\n      <td>0</td>\n      <td>0</td>\n      <td>0</td>\n      <td>0</td>\n      <td>0</td>\n      <td>0</td>\n      <td>0</td>\n      <td>0.100390</td>\n    </tr>\n    <tr>\n      <th>850143</th>\n      <td>55682</td>\n      <td>80</td>\n      <td>6</td>\n      <td>360</td>\n      <td>4</td>\n      <td>88</td>\n      <td>2</td>\n      <td>22</td>\n      <td>6</td>\n      <td>18</td>\n      <td>...</td>\n      <td>0</td>\n      <td>0</td>\n      <td>512</td>\n      <td>29200</td>\n      <td>0</td>\n      <td>0</td>\n      <td>0</td>\n      <td>0</td>\n      <td>0</td>\n      <td>0.059190</td>\n    </tr>\n    <tr>\n      <th>850144</th>\n      <td>59438</td>\n      <td>80</td>\n      <td>6</td>\n      <td>523</td>\n      <td>5</td>\n      <td>1147</td>\n      <td>5</td>\n      <td>219</td>\n      <td>219</td>\n      <td>27</td>\n      <td>...</td>\n      <td>1</td>\n      <td>0</td>\n      <td>65535</td>\n      <td>26883</td>\n      <td>0</td>\n      <td>0</td>\n      <td>0</td>\n      <td>0</td>\n      <td>0</td>\n      <td>-0.003462</td>\n    </tr>\n  </tbody>\n</table>\n<p>850145 rows × 38 columns</p>\n</div>"
     },
     "execution_count": 60,
     "metadata": {},
     "output_type": "execute_result"
    }
   ],
   "source": [
    "data"
   ],
   "metadata": {
    "collapsed": false,
    "ExecuteTime": {
     "end_time": "2024-11-30T12:12:53.219360Z",
     "start_time": "2024-11-30T12:12:53.082151Z"
    }
   },
   "id": "c6bd66d5877faf9e",
   "execution_count": 60
  },
  {
   "cell_type": "code",
   "outputs": [
    {
     "name": "stdout",
     "output_type": "stream",
     "text": [
      "IF acc = 0.7078192543624912\n",
      "-IF f1 = 0.8132644515644992\n",
      "-IF roc auc = 0.5836241085921027\n",
      "[[ 60846 220527]\n",
      " [ 27869 540903]]\n"
     ]
    }
   ],
   "source": [
    "print(\"IF acc = {}\".format(accuracy_score(label, y_pred)))\n",
    "print(\"-IF f1 = {}\".format(f1_score(label, y_pred)))\n",
    "print(\"-IF roc auc = {}\".format(roc_auc_score(label,y_pred)))\n",
    "print(confusion_matrix(label, y_pred))"
   ],
   "metadata": {
    "collapsed": false,
    "ExecuteTime": {
     "end_time": "2024-11-30T12:12:54.353601Z",
     "start_time": "2024-11-30T12:12:53.220830Z"
    }
   },
   "id": "275bfbfc5d4146be",
   "execution_count": 61
  },
  {
   "cell_type": "code",
   "outputs": [
    {
     "name": "stdout",
     "output_type": "stream",
     "text": [
      "850145\n"
     ]
    }
   ],
   "source": [
    "# Show the number of elements in y_pred\n",
    "num_elements = y_pred.shape[0]\n",
    "print(num_elements)"
   ],
   "metadata": {
    "collapsed": false,
    "ExecuteTime": {
     "end_time": "2024-11-30T12:12:54.361197Z",
     "start_time": "2024-11-30T12:12:54.356205Z"
    }
   },
   "id": "581a6e5933a34451",
   "execution_count": 62
  },
  {
   "cell_type": "code",
   "outputs": [
    {
     "name": "stdout",
     "output_type": "stream",
     "text": [
      "Số lượng của mỗi phần tử: Counter({1: 761430, -1: 88715})\n"
     ]
    }
   ],
   "source": [
    "element_counts = Counter(y_pred)\n",
    "\n",
    "print(\"Số lượng của mỗi phần tử:\", element_counts)\n"
   ],
   "metadata": {
    "collapsed": false,
    "ExecuteTime": {
     "end_time": "2024-11-30T12:12:54.460828Z",
     "start_time": "2024-11-30T12:12:54.361197Z"
    }
   },
   "id": "1de438f1c22320ff",
   "execution_count": 63
  },
  {
   "cell_type": "code",
   "outputs": [
    {
     "data": {
      "text/plain": "<Figure size 1000x600 with 2 Axes>",
      "image/png": "[encoded data removed]"
     },
     "metadata": {},
     "output_type": "display_data"
    }
   ],
   "source": [
    "plt.figure(figsize=(10, 6))\n",
    "sns.heatmap(confusion_matrix(label, y_pred), annot=True, fmt='d', cmap='Blues')\n",
    "plt.xlabel('Predicted Labels')\n",
    "plt.ylabel('True Labels')\n",
    "plt.title('IF Predicted vs True Labels')\n",
    "plt.show()"
   ],
   "metadata": {
    "collapsed": false,
    "ExecuteTime": {
     "end_time": "2024-11-30T12:12:55.428428Z",
     "start_time": "2024-11-30T12:12:54.460828Z"
    }
   },
   "id": "750583f3f71bb8d8",
   "execution_count": 64
  },
  {
   "cell_type": "code",
   "outputs": [],
   "source": [
    "data['Label']=label\n",
    "data['prediction']=y_pred"
   ],
   "metadata": {
    "collapsed": false,
    "ExecuteTime": {
     "end_time": "2024-11-30T12:12:55.451125Z",
     "start_time": "2024-11-30T12:12:55.428428Z"
    }
   },
   "id": "e3a1c69a178390a8",
   "execution_count": 65
  },
  {
   "cell_type": "code",
   "outputs": [
    {
     "data": {
      "text/plain": "   L4_SRC_PORT  L4_DST_PORT  PROTOCOL  IN_BYTES  IN_PKTS  OUT_BYTES  OUT_PKTS  \\\n0        65389           80         6       420        3          0         0   \n1        11154           80         6       280        2         40         1   \n2        42062         1041         6        44        1         40         1   \n3        46849         9110         6        44        1         40         1   \n4        50360         1084         6        44        1         40         1   \n\n   TCP_FLAGS  CLIENT_TCP_FLAGS  SERVER_TCP_FLAGS  ...  TCP_WIN_MAX_IN  \\\n0          2                 2                 0  ...             512   \n1         22                 2                20  ...             512   \n2         22                 2                20  ...            1024   \n3         22                 2                20  ...            1024   \n4         22                 2                20  ...            1024   \n\n   TCP_WIN_MAX_OUT  ICMP_TYPE  ICMP_IPV4_TYPE  DNS_QUERY_ID  DNS_QUERY_TYPE  \\\n0                0      35840             140             0               0   \n1                0          0               0             0               0   \n2                0          0               0             0               0   \n3                0          0               0             0               0   \n4                0          0               0             0               0   \n\n   DNS_TTL_ANSWER    scores  Label  prediction  \n0               0  0.029948      1           1  \n1               0  0.102271      1           1  \n2               0  0.139013     -1           1  \n3               0  0.135394     -1           1  \n4               0  0.140504     -1           1  \n\n[5 rows x 40 columns]",
      "text/html": "<div>\n<style scoped>\n    .dataframe tbody tr th:only-of-type {\n        vertical-align: middle;\n    }\n\n    .dataframe tbody tr th {\n        vertical-align: top;\n    }\n\n    .dataframe thead th {\n        text-align: right;\n    }\n</style>\n<table border=\"1\" class=\"dataframe\">\n  <thead>\n    <tr style=\"text-align: right;\">\n      <th></th>\n      <th>L4_SRC_PORT</th>\n      <th>L4_DST_PORT</th>\n      <th>PROTOCOL</th>\n      <th>IN_BYTES</th>\n      <th>IN_PKTS</th>\n      <th>OUT_BYTES</th>\n      <th>OUT_PKTS</th>\n      <th>TCP_FLAGS</th>\n      <th>CLIENT_TCP_FLAGS</th>\n      <th>SERVER_TCP_FLAGS</th>\n      <th>...</th>\n      <th>TCP_WIN_MAX_IN</th>\n      <th>TCP_WIN_MAX_OUT</th>\n      <th>ICMP_TYPE</th>\n      <th>ICMP_IPV4_TYPE</th>\n      <th>DNS_QUERY_ID</th>\n      <th>DNS_QUERY_TYPE</th>\n      <th>DNS_TTL_ANSWER</th>\n      <th>scores</th>\n      <th>Label</th>\n      <th>prediction</th>\n    </tr>\n  </thead>\n  <tbody>\n    <tr>\n      <th>0</th>\n      <td>65389</td>\n      <td>80</td>\n      <td>6</td>\n      <td>420</td>\n      <td>3</td>\n      <td>0</td>\n      <td>0</td>\n      <td>2</td>\n      <td>2</td>\n      <td>0</td>\n      <td>...</td>\n      <td>512</td>\n      <td>0</td>\n      <td>35840</td>\n      <td>140</td>\n      <td>0</td>\n      <td>0</td>\n      <td>0</td>\n      <td>0.029948</td>\n      <td>1</td>\n      <td>1</td>\n    </tr>\n    <tr>\n      <th>1</th>\n      <td>11154</td>\n      <td>80</td>\n      <td>6</td>\n      <td>280</td>\n      <td>2</td>\n      <td>40</td>\n      <td>1</td>\n      <td>22</td>\n      <td>2</td>\n      <td>20</td>\n      <td>...</td>\n      <td>512</td>\n      <td>0</td>\n      <td>0</td>\n      <td>0</td>\n      <td>0</td>\n      <td>0</td>\n      <td>0</td>\n      <td>0.102271</td>\n      <td>1</td>\n      <td>1</td>\n    </tr>\n    <tr>\n      <th>2</th>\n      <td>42062</td>\n      <td>1041</td>\n      <td>6</td>\n      <td>44</td>\n      <td>1</td>\n      <td>40</td>\n      <td>1</td>\n      <td>22</td>\n      <td>2</td>\n      <td>20</td>\n      <td>...</td>\n      <td>1024</td>\n      <td>0</td>\n      <td>0</td>\n      <td>0</td>\n      <td>0</td>\n      <td>0</td>\n      <td>0</td>\n      <td>0.139013</td>\n      <td>-1</td>\n      <td>1</td>\n    </tr>\n    <tr>\n      <th>3</th>\n      <td>46849</td>\n      <td>9110</td>\n      <td>6</td>\n      <td>44</td>\n      <td>1</td>\n      <td>40</td>\n      <td>1</td>\n      <td>22</td>\n      <td>2</td>\n      <td>20</td>\n      <td>...</td>\n      <td>1024</td>\n      <td>0</td>\n      <td>0</td>\n      <td>0</td>\n      <td>0</td>\n      <td>0</td>\n      <td>0</td>\n      <td>0.135394</td>\n      <td>-1</td>\n      <td>1</td>\n    </tr>\n    <tr>\n      <th>4</th>\n      <td>50360</td>\n      <td>1084</td>\n      <td>6</td>\n      <td>44</td>\n      <td>1</td>\n      <td>40</td>\n      <td>1</td>\n      <td>22</td>\n      <td>2</td>\n      <td>20</td>\n      <td>...</td>\n      <td>1024</td>\n      <td>0</td>\n      <td>0</td>\n      <td>0</td>\n      <td>0</td>\n      <td>0</td>\n      <td>0</td>\n      <td>0.140504</td>\n      <td>-1</td>\n      <td>1</td>\n    </tr>\n  </tbody>\n</table>\n<p>5 rows × 40 columns</p>\n</div>"
     },
     "execution_count": 66,
     "metadata": {},
     "output_type": "execute_result"
    }
   ],
   "source": [
    "data.head()"
   ],
   "metadata": {
    "collapsed": false,
    "ExecuteTime": {
     "end_time": "2024-11-30T12:12:55.484450Z",
     "start_time": "2024-11-30T12:12:55.451125Z"
    }
   },
   "id": "1df2524bb0ad6f1d",
   "execution_count": 66
  }
 ],
 "metadata": {
  "kernelspec": {
   "display_name": "Python 3",
   "language": "python",
   "name": "python3"
  },
  "language_info": {
   "codemirror_mode": {
    "name": "ipython",
    "version": 2
   },
   "file_extension": ".py",
   "mimetype": "text/x-python",
   "name": "python",
   "nbconvert_exporter": "python",
   "pygments_lexer": "ipython2",
   "version": "2.7.6"
  }
 },
 "nbformat": 4,
 "nbformat_minor": 5
}
