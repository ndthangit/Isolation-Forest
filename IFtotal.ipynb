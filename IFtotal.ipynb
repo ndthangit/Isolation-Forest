{
 "cells": [
  {
   "cell_type": "code",
   "execution_count": 1,
   "id": "initial_id",
   "metadata": {
    "collapsed": true,
    "ExecuteTime": {
     "end_time": "2024-12-21T01:57:19.760293Z",
     "start_time": "2024-12-21T01:57:17.732809Z"
    }
   },
   "outputs": [],
   "source": [
    "import pandas as pd\n",
    "import numpy as np\n",
    "import seaborn as sns\n",
    "import matplotlib.pyplot as plt\n",
    "from collections import Counter\n",
    "\n",
    "from sklearn.ensemble import IsolationForest\n",
    "from sklearn.metrics import accuracy_score, classification_report\n",
    "from sklearn.preprocessing import StandardScaler"
   ]
  },
  {
   "cell_type": "code",
   "outputs": [],
   "source": [
    "training_start = 1\n",
    "training_end = 3\n",
    "\n",
    "test_start =4\n",
    "test_end =5"
   ],
   "metadata": {
    "collapsed": false,
    "ExecuteTime": {
     "end_time": "2024-12-21T01:57:19.771902Z",
     "start_time": "2024-12-21T01:57:19.764301Z"
    }
   },
   "id": "829aaf26f12671ed",
   "execution_count": 2
  },
  {
   "cell_type": "code",
   "outputs": [],
   "source": [
    "# Define the mapping of attack types to integer keys\n",
    "attack_type_map = {\n",
    "    'Benign': 0,\n",
    "    'DoS': 1,\n",
    "    'scanning': 2,\n",
    "    'DDoS': 3,\n",
    "    'xss': 4,\n",
    "    'Bot': 5,\n",
    "    'Reconnaissance': 6,\n",
    "    'password': 7,\n",
    "    'Fuzzers': 8,\n",
    "    'injection': 9,\n",
    "    'Theft': 10,\n",
    "    'Brute Force': 11,\n",
    "    'Infilteration': 12,\n",
    "    'Exploits': 13,\n",
    "    'Generic': 14,\n",
    "    'Analysis': 15,\n",
    "    'Backdoor': 16,\n",
    "    'mitm': 17,\n",
    "    'Shellcode': 18,\n",
    "    'ransomware': 19,\n",
    "    'Worms': 20\n",
    "}\n",
    "\n",
    "drop_column={\n",
    "    'Dataset',\n",
    "    'IPV4_SRC_ADDR',\n",
    "    'IPV4_DST_ADDR',\n",
    "    'L7_PROTO',\n",
    "    'SRC_TO_DST_SECOND_BYTES',\n",
    "    'DST_TO_SRC_SECOND_BYTES',\n",
    "    'FTP_COMMAND_RET_CODE',\n",
    "\n",
    "}\n",
    "drop_purposed_column= {\n",
    "    'Label',\n",
    "    'Attack'\n",
    "}\n"
   ],
   "metadata": {
    "collapsed": false,
    "ExecuteTime": {
     "end_time": "2024-12-21T01:57:19.784528Z",
     "start_time": "2024-12-21T01:57:19.774910Z"
    }
   },
   "id": "3034ce381ff4c05",
   "execution_count": 3
  },
  {
   "cell_type": "code",
   "outputs": [],
   "source": [
    "dataset = pd.read_csv('dataset-v2/part_1.csv')\n",
    "dataset.drop(columns=drop_column, inplace=True)\n",
    "dataset.drop(columns=drop_purposed_column, inplace=True)\n",
    "# dataset['Attack'] = dataset['Attack'].map(attack_type_map)"
   ],
   "metadata": {
    "collapsed": false,
    "ExecuteTime": {
     "end_time": "2024-12-21T01:57:26.371171Z",
     "start_time": "2024-12-21T01:57:19.786629Z"
    }
   },
   "id": "4ceebdab3e36eccf",
   "execution_count": 4
  },
  {
   "cell_type": "code",
   "outputs": [
    {
     "name": "stdout",
     "output_type": "stream",
     "text": [
      "<class 'pandas.core.frame.DataFrame'>\n",
      "RangeIndex: 850145 entries, 0 to 850144\n",
      "Data columns (total 37 columns):\n",
      " #   Column                       Non-Null Count   Dtype\n",
      "---  ------                       --------------   -----\n",
      " 0   L4_SRC_PORT                  850145 non-null  int64\n",
      " 1   L4_DST_PORT                  850145 non-null  int64\n",
      " 2   PROTOCOL                     850145 non-null  int64\n",
      " 3   IN_BYTES                     850145 non-null  int64\n",
      " 4   IN_PKTS                      850145 non-null  int64\n",
      " 5   OUT_BYTES                    850145 non-null  int64\n",
      " 6   OUT_PKTS                     850145 non-null  int64\n",
      " 7   TCP_FLAGS                    850145 non-null  int64\n",
      " 8   CLIENT_TCP_FLAGS             850145 non-null  int64\n",
      " 9   SERVER_TCP_FLAGS             850145 non-null  int64\n",
      " 10  FLOW_DURATION_MILLISECONDS   850145 non-null  int64\n",
      " 11  DURATION_IN                  850145 non-null  int64\n",
      " 12  DURATION_OUT                 850145 non-null  int64\n",
      " 13  MIN_TTL                      850145 non-null  int64\n",
      " 14  MAX_TTL                      850145 non-null  int64\n",
      " 15  LONGEST_FLOW_PKT             850145 non-null  int64\n",
      " 16  SHORTEST_FLOW_PKT            850145 non-null  int64\n",
      " 17  MIN_IP_PKT_LEN               850145 non-null  int64\n",
      " 18  MAX_IP_PKT_LEN               850145 non-null  int64\n",
      " 19  RETRANSMITTED_IN_BYTES       850145 non-null  int64\n",
      " 20  RETRANSMITTED_IN_PKTS        850145 non-null  int64\n",
      " 21  RETRANSMITTED_OUT_BYTES      850145 non-null  int64\n",
      " 22  RETRANSMITTED_OUT_PKTS       850145 non-null  int64\n",
      " 23  SRC_TO_DST_AVG_THROUGHPUT    850145 non-null  int64\n",
      " 24  DST_TO_SRC_AVG_THROUGHPUT    850145 non-null  int64\n",
      " 25  NUM_PKTS_UP_TO_128_BYTES     850145 non-null  int64\n",
      " 26  NUM_PKTS_128_TO_256_BYTES    850145 non-null  int64\n",
      " 27  NUM_PKTS_256_TO_512_BYTES    850145 non-null  int64\n",
      " 28  NUM_PKTS_512_TO_1024_BYTES   850145 non-null  int64\n",
      " 29  NUM_PKTS_1024_TO_1514_BYTES  850145 non-null  int64\n",
      " 30  TCP_WIN_MAX_IN               850145 non-null  int64\n",
      " 31  TCP_WIN_MAX_OUT              850145 non-null  int64\n",
      " 32  ICMP_TYPE                    850145 non-null  int64\n",
      " 33  ICMP_IPV4_TYPE               850145 non-null  int64\n",
      " 34  DNS_QUERY_ID                 850145 non-null  int64\n",
      " 35  DNS_QUERY_TYPE               850145 non-null  int64\n",
      " 36  DNS_TTL_ANSWER               850145 non-null  int64\n",
      "dtypes: int64(37)\n",
      "memory usage: 240.0 MB\n"
     ]
    }
   ],
   "source": [
    "dataset.info()"
   ],
   "metadata": {
    "collapsed": false,
    "ExecuteTime": {
     "end_time": "2024-12-21T01:57:26.525160Z",
     "start_time": "2024-12-21T01:57:26.376146Z"
    }
   },
   "id": "7b48432031fa9ebc",
   "execution_count": 5
  },
  {
   "cell_type": "code",
   "outputs": [],
   "source": [
    "list_attributes = dataset.columns"
   ],
   "metadata": {
    "collapsed": false,
    "ExecuteTime": {
     "end_time": "2024-12-21T01:57:26.534018Z",
     "start_time": "2024-12-21T01:57:26.527655Z"
    }
   },
   "id": "f0954cb592154dd5",
   "execution_count": 6
  },
  {
   "cell_type": "code",
   "outputs": [
    {
     "name": "stdout",
     "output_type": "stream",
     "text": [
      "Index(['L4_SRC_PORT', 'L4_DST_PORT', 'PROTOCOL', 'IN_BYTES', 'IN_PKTS',\n",
      "       'OUT_BYTES', 'OUT_PKTS', 'TCP_FLAGS', 'CLIENT_TCP_FLAGS',\n",
      "       'SERVER_TCP_FLAGS', 'FLOW_DURATION_MILLISECONDS', 'DURATION_IN',\n",
      "       'DURATION_OUT', 'MIN_TTL', 'MAX_TTL', 'LONGEST_FLOW_PKT',\n",
      "       'SHORTEST_FLOW_PKT', 'MIN_IP_PKT_LEN', 'MAX_IP_PKT_LEN',\n",
      "       'RETRANSMITTED_IN_BYTES', 'RETRANSMITTED_IN_PKTS',\n",
      "       'RETRANSMITTED_OUT_BYTES', 'RETRANSMITTED_OUT_PKTS',\n",
      "       'SRC_TO_DST_AVG_THROUGHPUT', 'DST_TO_SRC_AVG_THROUGHPUT',\n",
      "       'NUM_PKTS_UP_TO_128_BYTES', 'NUM_PKTS_128_TO_256_BYTES',\n",
      "       'NUM_PKTS_256_TO_512_BYTES', 'NUM_PKTS_512_TO_1024_BYTES',\n",
      "       'NUM_PKTS_1024_TO_1514_BYTES', 'TCP_WIN_MAX_IN', 'TCP_WIN_MAX_OUT',\n",
      "       'ICMP_TYPE', 'ICMP_IPV4_TYPE', 'DNS_QUERY_ID', 'DNS_QUERY_TYPE',\n",
      "       'DNS_TTL_ANSWER'],\n",
      "      dtype='object')\n"
     ]
    }
   ],
   "source": [
    "print(list_attributes)"
   ],
   "metadata": {
    "collapsed": false,
    "ExecuteTime": {
     "end_time": "2024-12-21T01:57:26.548858Z",
     "start_time": "2024-12-21T01:57:26.534018Z"
    }
   },
   "id": "b4adf6dbce5261e6",
   "execution_count": 7
  },
  {
   "cell_type": "code",
   "outputs": [],
   "source": [
    "dataset.drop(columns= list_attributes[0], inplace=True)"
   ],
   "metadata": {
    "collapsed": false,
    "ExecuteTime": {
     "end_time": "2024-12-21T01:57:26.747263Z",
     "start_time": "2024-12-21T01:57:26.551906Z"
    }
   },
   "id": "28b7cafa4fa8a705",
   "execution_count": 8
  },
  {
   "cell_type": "code",
   "outputs": [
    {
     "name": "stdout",
     "output_type": "stream",
     "text": [
      "<class 'pandas.core.frame.DataFrame'>\n",
      "RangeIndex: 850145 entries, 0 to 850144\n",
      "Data columns (total 36 columns):\n",
      " #   Column                       Non-Null Count   Dtype\n",
      "---  ------                       --------------   -----\n",
      " 0   L4_DST_PORT                  850145 non-null  int64\n",
      " 1   PROTOCOL                     850145 non-null  int64\n",
      " 2   IN_BYTES                     850145 non-null  int64\n",
      " 3   IN_PKTS                      850145 non-null  int64\n",
      " 4   OUT_BYTES                    850145 non-null  int64\n",
      " 5   OUT_PKTS                     850145 non-null  int64\n",
      " 6   TCP_FLAGS                    850145 non-null  int64\n",
      " 7   CLIENT_TCP_FLAGS             850145 non-null  int64\n",
      " 8   SERVER_TCP_FLAGS             850145 non-null  int64\n",
      " 9   FLOW_DURATION_MILLISECONDS   850145 non-null  int64\n",
      " 10  DURATION_IN                  850145 non-null  int64\n",
      " 11  DURATION_OUT                 850145 non-null  int64\n",
      " 12  MIN_TTL                      850145 non-null  int64\n",
      " 13  MAX_TTL                      850145 non-null  int64\n",
      " 14  LONGEST_FLOW_PKT             850145 non-null  int64\n",
      " 15  SHORTEST_FLOW_PKT            850145 non-null  int64\n",
      " 16  MIN_IP_PKT_LEN               850145 non-null  int64\n",
      " 17  MAX_IP_PKT_LEN               850145 non-null  int64\n",
      " 18  RETRANSMITTED_IN_BYTES       850145 non-null  int64\n",
      " 19  RETRANSMITTED_IN_PKTS        850145 non-null  int64\n",
      " 20  RETRANSMITTED_OUT_BYTES      850145 non-null  int64\n",
      " 21  RETRANSMITTED_OUT_PKTS       850145 non-null  int64\n",
      " 22  SRC_TO_DST_AVG_THROUGHPUT    850145 non-null  int64\n",
      " 23  DST_TO_SRC_AVG_THROUGHPUT    850145 non-null  int64\n",
      " 24  NUM_PKTS_UP_TO_128_BYTES     850145 non-null  int64\n",
      " 25  NUM_PKTS_128_TO_256_BYTES    850145 non-null  int64\n",
      " 26  NUM_PKTS_256_TO_512_BYTES    850145 non-null  int64\n",
      " 27  NUM_PKTS_512_TO_1024_BYTES   850145 non-null  int64\n",
      " 28  NUM_PKTS_1024_TO_1514_BYTES  850145 non-null  int64\n",
      " 29  TCP_WIN_MAX_IN               850145 non-null  int64\n",
      " 30  TCP_WIN_MAX_OUT              850145 non-null  int64\n",
      " 31  ICMP_TYPE                    850145 non-null  int64\n",
      " 32  ICMP_IPV4_TYPE               850145 non-null  int64\n",
      " 33  DNS_QUERY_ID                 850145 non-null  int64\n",
      " 34  DNS_QUERY_TYPE               850145 non-null  int64\n",
      " 35  DNS_TTL_ANSWER               850145 non-null  int64\n",
      "dtypes: int64(36)\n",
      "memory usage: 233.5 MB\n"
     ]
    }
   ],
   "source": [
    "dataset.info()"
   ],
   "metadata": {
    "collapsed": false,
    "ExecuteTime": {
     "end_time": "2024-12-21T01:57:26.877623Z",
     "start_time": "2024-12-21T01:57:26.750272Z"
    }
   },
   "id": "c60502041a80f94d",
   "execution_count": 9
  },
  {
   "cell_type": "code",
   "outputs": [],
   "source": [
    "# import scipy.stats as stats\n",
    "# \n",
    "# # Histogram\n",
    "# sns.histplot(dataset, kde=True)\n",
    "# plt.title(\"Histogram\")\n",
    "# plt.show()"
   ],
   "metadata": {
    "collapsed": false,
    "ExecuteTime": {
     "end_time": "2024-12-21T01:57:26.890026Z",
     "start_time": "2024-12-21T01:57:26.880688Z"
    }
   },
   "id": "aaea6295b982440b",
   "execution_count": 10
  },
  {
   "cell_type": "code",
   "outputs": [],
   "source": [
    "# Q-Q Plot\n",
    "# stats.probplot(dataset, dist=\"norm\", plot=plt)\n",
    "# plt.title(\"Q-Q Plot\")\n",
    "# plt.show()"
   ],
   "metadata": {
    "collapsed": false,
    "ExecuteTime": {
     "end_time": "2024-12-21T01:57:26.899997Z",
     "start_time": "2024-12-21T01:57:26.893124Z"
    }
   },
   "id": "c2ed4560b356c8c0",
   "execution_count": 11
  },
  {
   "cell_type": "code",
   "outputs": [
    {
     "name": "stdout",
     "output_type": "stream",
     "text": [
      "[[-0.30654098 -0.74821467 -0.0077353  ... -0.3387917  -0.13934468\n",
      "  -0.00167769]\n",
      " [-0.30654098 -0.74821467 -0.00962603 ... -0.3387917  -0.13934468\n",
      "  -0.00167769]\n",
      " [-0.21684028 -0.74821467 -0.01281326 ... -0.3387917  -0.13934468\n",
      "  -0.00167769]\n",
      " ...\n",
      " [-0.30654098  1.19632187 -0.01151676 ... -0.3387917  -0.13934468\n",
      "  -0.00167769]\n",
      " [-0.30654098 -0.74821467 -0.00854561 ... -0.3387917  -0.13934468\n",
      "  -0.00167769]\n",
      " [-0.30654098 -0.74821467 -0.00634426 ... -0.3387917  -0.13934468\n",
      "  -0.00167769]]\n"
     ]
    }
   ],
   "source": [
    "\n",
    "scaler = StandardScaler()\n",
    "data_normalized = scaler.fit_transform(dataset)\n",
    "print(data_normalized)"
   ],
   "metadata": {
    "collapsed": false,
    "ExecuteTime": {
     "end_time": "2024-12-21T01:57:27.916641Z",
     "start_time": "2024-12-21T01:57:26.901269Z"
    }
   },
   "id": "22ad3e1293544ff5",
   "execution_count": 12
  },
  {
   "cell_type": "markdown",
   "source": [
    "## 1. Data Preprocessing"
   ],
   "metadata": {
    "collapsed": false
   },
   "id": "4607d32b9203a353"
  },
  {
   "cell_type": "code",
   "outputs": [
    {
     "ename": "KeyboardInterrupt",
     "evalue": "",
     "output_type": "error",
     "traceback": [
      "\u001B[1;31m---------------------------------------------------------------------------\u001B[0m",
      "\u001B[1;31mKeyboardInterrupt\u001B[0m                         Traceback (most recent call last)",
      "Cell \u001B[1;32mIn[17], line 7\u001B[0m\n\u001B[0;32m      5\u001B[0m data \u001B[38;5;241m=\u001B[39m pd\u001B[38;5;241m.\u001B[39mread_csv(\u001B[38;5;124mf\u001B[39m\u001B[38;5;124m'\u001B[39m\u001B[38;5;124mdataset-v2/part_\u001B[39m\u001B[38;5;132;01m{\u001B[39;00mi\u001B[38;5;132;01m}\u001B[39;00m\u001B[38;5;124m.csv\u001B[39m\u001B[38;5;124m'\u001B[39m)\n\u001B[0;32m      6\u001B[0m num_type \u001B[38;5;241m=\u001B[39m Counter(data[\u001B[38;5;124m'\u001B[39m\u001B[38;5;124mAttack\u001B[39m\u001B[38;5;124m'\u001B[39m])\n\u001B[1;32m----> 7\u001B[0m label_type\u001B[38;5;241m=\u001B[39m \u001B[43mCounter\u001B[49m\u001B[43m(\u001B[49m\u001B[43mdata\u001B[49m\u001B[43m[\u001B[49m\u001B[38;5;124;43m'\u001B[39;49m\u001B[38;5;124;43mLabel\u001B[39;49m\u001B[38;5;124;43m'\u001B[39;49m\u001B[43m]\u001B[49m\u001B[43m)\u001B[49m\n\u001B[0;32m      8\u001B[0m total_counts\u001B[38;5;241m.\u001B[39mupdate(num_type)\n\u001B[0;32m      9\u001B[0m label_count\u001B[38;5;241m.\u001B[39mupdate(label_type)\n",
      "File \u001B[1;32mD:\\Anaconda\\envs\\pythonProject\\Lib\\collections\\__init__.py:599\u001B[0m, in \u001B[0;36mCounter.__init__\u001B[1;34m(self, iterable, **kwds)\u001B[0m\n\u001B[0;32m    588\u001B[0m \u001B[38;5;250m\u001B[39m\u001B[38;5;124;03m'''Create a new, empty Counter object.  And if given, count elements\u001B[39;00m\n\u001B[0;32m    589\u001B[0m \u001B[38;5;124;03mfrom an input iterable.  Or, initialize the count from another mapping\u001B[39;00m\n\u001B[0;32m    590\u001B[0m \u001B[38;5;124;03mof elements to their counts.\u001B[39;00m\n\u001B[1;32m   (...)\u001B[0m\n\u001B[0;32m    596\u001B[0m \n\u001B[0;32m    597\u001B[0m \u001B[38;5;124;03m'''\u001B[39;00m\n\u001B[0;32m    598\u001B[0m \u001B[38;5;28msuper\u001B[39m()\u001B[38;5;241m.\u001B[39m\u001B[38;5;21m__init__\u001B[39m()\n\u001B[1;32m--> 599\u001B[0m \u001B[38;5;28;43mself\u001B[39;49m\u001B[38;5;241;43m.\u001B[39;49m\u001B[43mupdate\u001B[49m\u001B[43m(\u001B[49m\u001B[43miterable\u001B[49m\u001B[43m,\u001B[49m\u001B[43m \u001B[49m\u001B[38;5;241;43m*\u001B[39;49m\u001B[38;5;241;43m*\u001B[39;49m\u001B[43mkwds\u001B[49m\u001B[43m)\u001B[49m\n",
      "\u001B[1;31mKeyboardInterrupt\u001B[0m: "
     ]
    }
   ],
   "source": [
    "total_counts = Counter()\n",
    "\n",
    "label_count= Counter()\n",
    "for i in range(1,90):\n",
    "    data = pd.read_csv(f'dataset-v2/part_{i}.csv')\n",
    "    num_type = Counter(data['Attack'])\n",
    "    label_type= Counter(data['Label'])\n",
    "    total_counts.update(num_type)\n",
    "    label_count.update(label_type)\n",
    "print(\"\\nTổng số lượng của mỗi phần tử trong tất cả các file:\", total_counts)\n",
    "print(\"\\nTổng số lượng của mỗi nhãn trong tất cả các file:\", label_count)\n"
   ],
   "metadata": {
    "collapsed": false,
    "ExecuteTime": {
     "end_time": "2024-12-13T09:38:00.304197Z",
     "start_time": "2024-12-13T09:34:14.600346Z"
    }
   },
   "id": "193c712e304a4d0c",
   "execution_count": 17
  },
  {
   "cell_type": "code",
   "outputs": [],
   "source": [
    "plt.figure(figsize=(20,10))\n",
    "plt.bar(total_counts.keys(), total_counts.values())\n",
    "plt.show()\n",
    "plt.savefig('total_counts.png')\n"
   ],
   "metadata": {
    "collapsed": false,
    "ExecuteTime": {
     "start_time": "2024-12-13T09:38:00.306363Z"
    }
   },
   "id": "8207386d0a270e78",
   "execution_count": null
  },
  {
   "cell_type": "code",
   "outputs": [],
   "source": [
    "plt.figure(figsize=(20,10))\n",
    "plt.bar(label_count.keys(), label_count.values())\n",
    "plt.show()\n",
    "plt.savefig('label_count.png')\n"
   ],
   "metadata": {
    "collapsed": false,
    "ExecuteTime": {
     "start_time": "2024-12-13T09:38:00.308774Z"
    }
   },
   "id": "7a5d352ed63cf8ac",
   "execution_count": null
  },
  {
   "cell_type": "code",
   "outputs": [],
   "source": [
    "IsolationForest_model= IsolationForest(max_features=0.5)\n"
   ],
   "metadata": {
    "collapsed": false,
    "ExecuteTime": {
     "end_time": "2024-12-21T02:00:40.447442Z",
     "start_time": "2024-12-21T02:00:40.442002Z"
    }
   },
   "id": "7f51a9f93b71be3d",
   "execution_count": 34
  },
  {
   "cell_type": "code",
   "outputs": [],
   "source": [
    "from sklearn.feature_selection import SelectFromModel, SelectKBest, f_classif"
   ],
   "metadata": {
    "collapsed": false,
    "ExecuteTime": {
     "end_time": "2024-12-21T02:00:41.655857Z",
     "start_time": "2024-12-21T02:00:41.644100Z"
    }
   },
   "id": "a3b4ced95fe1ae7f",
   "execution_count": 35
  },
  {
   "cell_type": "code",
   "outputs": [],
   "source": [],
   "metadata": {
    "collapsed": false,
    "ExecuteTime": {
     "end_time": "2024-12-21T02:00:41.673526Z",
     "start_time": "2024-12-21T02:00:41.662905Z"
    }
   },
   "id": "11af5deb7405beba",
   "execution_count": 35
  },
  {
   "cell_type": "code",
   "outputs": [],
   "source": [
    "def train_data(data):\n",
    "    data.drop(columns=drop_column, inplace=True)\n",
    "    # data['Attack'] = data['Attack'].map(attack_type_map)\n",
    "    label = data['Label']\n",
    "    # attack = data['Attack']\n",
    "    label.replace(0,-1, inplace=True)\n",
    "    data.drop(columns=drop_purposed_column, inplace=True)\n",
    "    \n",
    "    scaler = StandardScaler()\n",
    "    data_normalized = scaler.fit_transform(data)\n",
    "    IsolationForest_model.fit(data_normalized)\n",
    "    IsolationForest_model.decision_function(data_normalized)\n",
    "    data['scores'] = IsolationForest_model.decision_function(data_normalized)\n"
   ],
   "metadata": {
    "collapsed": false,
    "ExecuteTime": {
     "end_time": "2024-12-21T02:00:43.053910Z",
     "start_time": "2024-12-21T02:00:43.036824Z"
    }
   },
   "id": "5a14e5d1ad83e021",
   "execution_count": 36
  },
  {
   "cell_type": "code",
   "outputs": [],
   "source": [
    "train_url =[f'dataset-v2/part_{i}.csv' for i in range(training_start,training_end)]\n",
    "test_url =[f'dataset-v2/part_{i}.csv' for i in range(test_start,test_end)]"
   ],
   "metadata": {
    "collapsed": false,
    "ExecuteTime": {
     "end_time": "2024-12-21T02:00:43.087463Z",
     "start_time": "2024-12-21T02:00:43.063931Z"
    }
   },
   "id": "9228369c0cbd6af6",
   "execution_count": 37
  },
  {
   "cell_type": "code",
   "outputs": [],
   "source": [
    "for train_path in train_url:\n",
    "    data = pd.read_csv(train_path)\n",
    "    train_data(data)"
   ],
   "metadata": {
    "collapsed": false,
    "ExecuteTime": {
     "end_time": "2024-12-21T02:01:41.937771Z",
     "start_time": "2024-12-21T02:00:43.102480Z"
    }
   },
   "id": "f6ddb1594aedf6af",
   "execution_count": 38
  },
  {
   "cell_type": "code",
   "outputs": [],
   "source": [
    "prediction =[]\n",
    "original_result=[]\n",
    "\n",
    "for test_path in test_url:\n",
    "    test = pd.read_csv(test_path)\n",
    "    test.drop(columns=drop_column, inplace=True)\n",
    "    # test['Attack'] = test['Attack'].map(attack_type_map)\n",
    "    label = test['Label']\n",
    "    \n",
    "    attack = test['Attack']\n",
    "    # label.replace(1,-1, inplace=True)\n",
    "    label.replace(0,-1, inplace=True)\n",
    "    test.drop(columns=drop_purposed_column, inplace=True)\n",
    "    \n",
    "    \n",
    "    scaler = StandardScaler()\n",
    "    test_normalized = scaler.fit_transform(test)\n",
    "    \n",
    "    y_pred = IsolationForest_model.predict(test_normalized)\n",
    "    test['Label']=label\n",
    "    test['prediction']=y_pred\n",
    "    prediction.append(y_pred)\n",
    "    original_result.append(label)\n",
    "    "
   ],
   "metadata": {
    "collapsed": false,
    "ExecuteTime": {
     "end_time": "2024-12-21T02:01:55.099833Z",
     "start_time": "2024-12-21T02:01:41.939228Z"
    }
   },
   "id": "982fd855f72742a8",
   "execution_count": 39
  },
  {
   "cell_type": "code",
   "outputs": [],
   "source": [
    "#convert to 1D array\n",
    "prediction = np.concatenate(prediction)\n",
    "original_result = np.concatenate(original_result)"
   ],
   "metadata": {
    "collapsed": false,
    "ExecuteTime": {
     "end_time": "2024-12-21T02:01:55.108135Z",
     "start_time": "2024-12-21T02:01:55.101741Z"
    }
   },
   "id": "a5729f5d81e4ae42",
   "execution_count": 40
  },
  {
   "cell_type": "code",
   "outputs": [
    {
     "name": "stdout",
     "output_type": "stream",
     "text": [
      "850082\n"
     ]
    }
   ],
   "source": [
    "print(len(original_result))"
   ],
   "metadata": {
    "collapsed": false,
    "ExecuteTime": {
     "end_time": "2024-12-21T02:01:55.116756Z",
     "start_time": "2024-12-21T02:01:55.111382Z"
    }
   },
   "id": "9146471f7dd68dab",
   "execution_count": 41
  },
  {
   "cell_type": "code",
   "outputs": [],
   "source": [
    "from sklearn.metrics import accuracy_score, f1_score, roc_auc_score, confusion_matrix\n"
   ],
   "metadata": {
    "collapsed": false,
    "ExecuteTime": {
     "end_time": "2024-12-21T02:01:55.122499Z",
     "start_time": "2024-12-21T02:01:55.118265Z"
    }
   },
   "id": "f0db1cbc8bb3bea3",
   "execution_count": 42
  },
  {
   "cell_type": "code",
   "outputs": [],
   "source": [
    "# from docx import Document\n",
    "\n",
    "# Calculate metrics\n",
    "acc = accuracy_score(original_result, prediction)\n",
    "f1 = f1_score(original_result, prediction)\n",
    "roc_auc = roc_auc_score(original_result, prediction)\n",
    "cm = confusion_matrix(original_result, prediction)\n",
    "\n",
    "# Create a new Document\n",
    "# doc = Document()\n",
    "# \n",
    "# # Add a title\n",
    "# doc.add_heading('Model Evaluation Results', level=1)\n",
    "# \n",
    "# # Add accuracy\n",
    "# doc.add_heading('Accuracy', level=2)\n",
    "# doc.add_paragraph(f\"IF acc = {acc}\")\n",
    "# \n",
    "# # Add F1 score\n",
    "# doc.add_heading('F1 Score', level=2)\n",
    "# doc.add_paragraph(f\"-IF f1 = {f1}\")\n",
    "# \n",
    "# # Add ROC AUC\n",
    "# doc.add_heading('ROC AUC', level=2)\n",
    "# doc.add_paragraph(f\"-IF roc auc = {roc_auc}\")\n",
    "# \n",
    "# # Add confusion matrix\n",
    "# doc.add_heading('Confusion Matrix', level=2)\n",
    "# cm_text = '\\n'.join(['\\t'.join(map(str, row)) for row in cm])\n",
    "# doc.add_paragraph(cm_text)\n",
    "# \n",
    "# # Save the document\n",
    "# doc.save('model_evaluation_results.docx')"
   ],
   "metadata": {
    "collapsed": false,
    "ExecuteTime": {
     "end_time": "2024-12-21T02:01:56.493820Z",
     "start_time": "2024-12-21T02:01:55.123504Z"
    }
   },
   "id": "a42e15c37256fa5f",
   "execution_count": 43
  },
  {
   "cell_type": "code",
   "outputs": [
    {
     "name": "stdout",
     "output_type": "stream",
     "text": [
      "0.7291755383598288\n"
     ]
    }
   ],
   "source": [
    "print(acc)"
   ],
   "metadata": {
    "collapsed": false,
    "ExecuteTime": {
     "end_time": "2024-12-21T02:01:56.500996Z",
     "start_time": "2024-12-21T02:01:56.494911Z"
    }
   },
   "id": "36b1085e0e2d7d4c",
   "execution_count": 44
  },
  {
   "cell_type": "code",
   "outputs": [],
   "source": [
    "import seaborn as sns\n",
    "\n",
    "# Create a heatmap\n",
    "plt.figure(figsize=(10, 7))\n",
    "sns.heatmap(cm, annot=True, fmt='d', cmap='Blues')\n",
    "\n",
    "# Add labels and title\n",
    "plt.xlabel('Predicted')\n",
    "plt.ylabel('Actual')\n",
    "plt.title('Confusion Matrix Heatmap')\n",
    "\n",
    "# Save the heatmap as a PNG file\n",
    "plt.savefig('confusion_matrix_heatmap.png')\n",
    "\n",
    "# Show the heatmap\n",
    "plt.show()"
   ],
   "metadata": {
    "collapsed": false,
    "ExecuteTime": {
     "start_time": "2024-12-13T09:38:00.327473Z"
    }
   },
   "id": "654a490a6780926"
  },
  {
   "cell_type": "markdown",
   "source": [
    "# feature selection"
   ],
   "metadata": {
    "collapsed": false
   },
   "id": "2a9640d9803a392b"
  },
  {
   "cell_type": "code",
   "outputs": [],
   "source": [
    "from sklearn.decomposition import PCA\n",
    "\n"
   ],
   "metadata": {
    "collapsed": false,
    "ExecuteTime": {
     "end_time": "2024-12-16T08:28:06.144929Z",
     "start_time": "2024-12-16T08:28:06.140881Z"
    }
   },
   "id": "ebe450d5d5cf4804",
   "execution_count": 17
  },
  {
   "cell_type": "code",
   "outputs": [],
   "source": [
    "def train_and_evaluate_feature_selection(n_component):\n",
    "    IsolationForest_evaluate_model = IsolationForest()\n",
    "    pca = None  # Để lưu PCA\n",
    "    scaler = None  # Để lưu StandardScaler\n",
    "    \n",
    "    def train_data(data):\n",
    "        nonlocal pca, scaler\n",
    "        # Xóa các cột không cần thiết\n",
    "        data.drop(columns=drop_column, inplace=True)\n",
    "        label = data['Label']\n",
    "        data.drop(columns=drop_purposed_column, inplace=True)\n",
    "        \n",
    "        # Áp dụng PCA\n",
    "        pca = PCA(n_components=n_component)  # Giữ 95% phương sai\n",
    "        data_reduced = pca.fit_transform(data)\n",
    "        \n",
    "        # Chuẩn hóa dữ liệu\n",
    "        scaler = StandardScaler()\n",
    "        data_normalized = scaler.fit_transform(data_reduced)\n",
    "        \n",
    "        # Chuyển đổi nhãn\n",
    "        label.replace(0, -1, inplace=True)\n",
    "        \n",
    "        # Huấn luyện Isolation Forest\n",
    "        IsolationForest_evaluate_model.fit(data_normalized)\n",
    "    \n",
    "    for train_path in train_url:\n",
    "        data = pd.read_csv(train_path)\n",
    "        train_data(data)\n",
    "    \n",
    "    prediction = []\n",
    "    original_result = []\n",
    "    \n",
    "    def test_data(test):\n",
    "        nonlocal pca, scaler\n",
    "        # Xóa các cột không cần thiết\n",
    "        test.drop(columns=drop_column, inplace=True)\n",
    "        label = test['Label']\n",
    "        label.replace(0, -1, inplace=True)\n",
    "        test.drop(columns=drop_purposed_column, inplace=True)\n",
    "        \n",
    "        # Áp dụng PCA và chuẩn hóa\n",
    "        test_reduced = pca.transform(test)  # Áp dụng PCA từ tập train\n",
    "        test_normalized = scaler.transform(test_reduced)  # Áp dụng scaler từ tập train\n",
    "        \n",
    "        # Dự đoán\n",
    "        y_pred = IsolationForest_evaluate_model.predict(test_normalized)\n",
    "        return y_pred, label\n",
    "    \n",
    "    for test_path in test_url:\n",
    "        test = pd.read_csv(test_path)\n",
    "        y_pred, label = test_data(test)\n",
    "        prediction.append(y_pred)\n",
    "        original_result.append(label)\n",
    "    \n",
    "    # Ghép kết quả\n",
    "    prediction = np.concatenate(prediction)\n",
    "    original_result = np.concatenate(original_result)\n",
    "    \n",
    "    # Đánh giá mô hình\n",
    "    acc = accuracy_score(original_result, prediction)\n",
    "    f1 = f1_score(original_result, prediction)\n",
    "    roc_auc = roc_auc_score(original_result, prediction)\n",
    "    cm = confusion_matrix(original_result, prediction)\n",
    "    \n",
    "    return acc, f1, roc_auc, cm"
   ],
   "metadata": {
    "collapsed": false,
    "ExecuteTime": {
     "end_time": "2024-12-16T08:29:09.157402Z",
     "start_time": "2024-12-16T08:29:09.147351Z"
    }
   },
   "id": "ae7eae853d12641c",
   "execution_count": 21
  },
  {
   "cell_type": "code",
   "outputs": [
    {
     "name": "stdout",
     "output_type": "stream",
     "text": [
      "n_component = 0.2\n",
      "Accuracy: 0.7362395627715914\n",
      "F1 Score: 0.8278736346915024\n",
      "ROC AUC: 0.6278625749618426\n",
      "Confusion Matrix:\n",
      "[[ 86655 194058]\n",
      " [ 30160 539209]]\n",
      "n_component = 0.3\n",
      "Accuracy: 0.755477706856515\n",
      "F1 Score: 0.8369187606503667\n",
      "ROC AUC: 0.6622646663787781\n",
      "Confusion Matrix:\n",
      "[[108848 171865]\n",
      " [ 35999 533370]]\n",
      "n_component = 0.4\n",
      "Accuracy: 0.7296743137720831\n",
      "F1 Score: 0.8241229644517136\n",
      "ROC AUC: 0.6186568699645665\n",
      "Confusion Matrix:\n",
      "[[ 81888 198825]\n",
      " [ 30974 538395]]\n",
      "n_component = 0.5\n",
      "Accuracy: 0.7349020447439188\n",
      "F1 Score: 0.8269305057111282\n",
      "ROC AUC: 0.6265895851043113\n",
      "Confusion Matrix:\n",
      "[[ 86351 194362]\n",
      " [ 30993 538376]]\n",
      "n_component = 0.6\n",
      "Accuracy: 0.7384605249846485\n",
      "F1 Score: 0.8287141970067935\n",
      "ROC AUC: 0.6324634717659433\n",
      "Confusion Matrix:\n",
      "[[ 89914 190799]\n",
      " [ 31531 537838]]\n",
      "n_component = 0.7\n",
      "Accuracy: 0.7452857489042234\n",
      "F1 Score: 0.8324722048139638\n",
      "ROC AUC: 0.6426687393114774\n",
      "Confusion Matrix:\n",
      "[[ 95573 185140]\n",
      " [ 31388 537981]]\n",
      "n_component = 0.8\n",
      "Accuracy: 0.7316682390639961\n",
      "F1 Score: 0.825367708980888\n",
      "ROC AUC: 0.6210881059637787\n",
      "Confusion Matrix:\n",
      "[[ 82932 197781]\n",
      " [ 30323 539046]]\n",
      "n_component = 0.9\n",
      "Accuracy: 0.7447046284946629\n",
      "F1 Score: 0.8322550824649356\n",
      "ROC AUC: 0.6414375648052757\n",
      "Confusion Matrix:\n",
      "[[ 94690 186023]\n",
      " [ 30999 538370]]\n"
     ]
    }
   ],
   "source": [
    "from document import Document\n",
    "\n",
    "# acc, f1, roc_auc, cm = train_and_evaluate_feature_selection()\n",
    "test =[0.2,0.3,0.4,0.5,0.6,0.7,0.8,0.9]\n",
    "for i in test:\n",
    "    acc, f1, roc_auc, cm = train_and_evaluate_feature_selection(i)\n",
    "    print(f\"n_component = {i}\")\n",
    "    print(f\"Accuracy: {acc}\")\n",
    "    print(f\"F1 Score: {f1}\")\n",
    "    print(f\"ROC AUC: {roc_auc}\")\n",
    "    print(f\"Confusion Matrix:\\n{cm}\")\n",
    "# save to the docx file\n",
    "#     doc = Document()\n",
    "#     doc.a\n",
    "#     doc.add_heading('Model Evaluation Results', level=1)\n",
    "#     doc.add_heading('Feature Selection', level=2)\n",
    "#     doc.add_heading('PCA', level=3)\n",
    "#     doc.add_paragraph(f\"PCA n_component = {i}\")\n",
    "#     doc.add_paragraph(f\"Accuracy: {acc}\")\n",
    "#     doc.add_paragraph(f\"F1 Score: {f1}\")\n",
    "#     doc.add_paragraph(f\"ROC AUC: {roc_auc}\")\n",
    "#     doc.add_paragraph(f\"Confusion Matrix:\\n{cm}\")\n",
    "#     doc.save(f'model_evaluation_results_fs{i}.docx')\n"
   ],
   "metadata": {
    "collapsed": false,
    "ExecuteTime": {
     "end_time": "2024-12-16T08:34:44.168136Z",
     "start_time": "2024-12-16T08:32:21.964314Z"
    }
   },
   "id": "f672db51676367be",
   "execution_count": 23
  },
  {
   "cell_type": "code",
   "outputs": [],
   "source": [
    "#\n",
    "    \n",
    "    "
   ],
   "metadata": {
    "collapsed": false
   },
   "id": "a38c50874fe8ec66"
  },
  {
   "cell_type": "code",
   "outputs": [
    {
     "name": "stdout",
     "output_type": "stream",
     "text": [
      "0.7423436797861853\n",
      "0.8315180978681015\n",
      "0.6359456415796485\n",
      "[[ 90560 190153]\n",
      " [ 28876 540493]]\n"
     ]
    }
   ],
   "source": [
    "print(acc)\n",
    "print(f1)\n",
    "print(roc_auc)\n",
    "print(cm)"
   ],
   "metadata": {
    "collapsed": false,
    "ExecuteTime": {
     "end_time": "2024-12-13T09:39:58.068706Z",
     "start_time": "2024-12-13T09:39:58.062592Z"
    }
   },
   "id": "e290f04a16436e6",
   "execution_count": 28
  },
  {
   "cell_type": "code",
   "outputs": [],
   "source": [],
   "metadata": {
    "collapsed": false
   },
   "id": "b7fc9322078c896a"
  },
  {
   "cell_type": "code",
   "outputs": [],
   "source": [
    "\n",
    "def train_and_evaluate_feature_selection_with_other_estimator(n_estimator,n_component):\n",
    "    IsolationForest_evaluate_model = IsolationForest(n_estimators=n_estimator)\n",
    "    pca = None  # Để lưu PCA\n",
    "    scaler = None  # Để lưu StandardScaler\n",
    "    \n",
    "    def train_data(data):\n",
    "        nonlocal pca, scaler\n",
    "        # Xóa các cột không cần thiết\n",
    "        data.drop(columns=drop_column, inplace=True)\n",
    "        label = data['Label']\n",
    "        data.drop(columns=drop_purposed_column, inplace=True)\n",
    "        \n",
    "        # Áp dụng PCA\n",
    "        pca = PCA(n_components=n_component)  # Giữ số thành phần mong muốn\n",
    "        data_reduced = pca.fit_transform(data)\n",
    "        \n",
    "        # Chuẩn hóa dữ liệu\n",
    "        scaler = StandardScaler()\n",
    "        data_normalized = scaler.fit_transform(data_reduced)\n",
    "        \n",
    "        # Chuyển đổi nhãn\n",
    "        label.replace(0, -1, inplace=True)\n",
    "        \n",
    "        # Huấn luyện Isolation Forest\n",
    "        IsolationForest_evaluate_model.fit(data_normalized)\n",
    "    \n",
    "    for train_path in train_url:\n",
    "        data = pd.read_csv(train_path)\n",
    "        train_data(data)\n",
    "    \n",
    "    prediction = []\n",
    "    original_result = []\n",
    "    \n",
    "    def test_data(test):\n",
    "        nonlocal pca, scaler\n",
    "        # Xóa các cột không cần thiết\n",
    "        test.drop(columns=drop_column, inplace=True)\n",
    "        label = test['Label']\n",
    "        label.replace(0, -1, inplace=True)\n",
    "        test.drop(columns=drop_purposed_column, inplace=True)\n",
    "        \n",
    "        # Áp dụng PCA và chuẩn hóa\n",
    "        test_reduced = pca.transform(test)  # Áp dụng PCA từ tập train\n",
    "        test_normalized = scaler.transform(test_reduced)  # Áp dụng scaler từ tập train\n",
    "        \n",
    "        # Dự đoán\n",
    "        y_pred = IsolationForest_evaluate_model.predict(test_normalized)\n",
    "        return y_pred, label\n",
    "    \n",
    "    for test_path in test_url:\n",
    "        test = pd.read_csv(test_path)\n",
    "        y_pred, label = test_data(test)\n",
    "        prediction.append(y_pred)\n",
    "        original_result.append(label)\n",
    "    \n",
    "    # Ghép kết quả\n",
    "    prediction = np.concatenate(prediction)\n",
    "    original_result = np.concatenate(original_result)\n",
    "    \n",
    "    # Đánh giá mô hình\n",
    "    acc = accuracy_score(original_result, prediction)\n",
    "    f1 = f1_score(original_result, prediction)\n",
    "    roc_auc = roc_auc_score(original_result, prediction)\n",
    "    cm = confusion_matrix(original_result, prediction)\n",
    "    \n",
    "    return acc, f1, roc_auc, cm\n"
   ],
   "metadata": {
    "collapsed": false,
    "ExecuteTime": {
     "end_time": "2024-12-16T08:50:47.299492Z",
     "start_time": "2024-12-16T08:50:47.282173Z"
    }
   },
   "id": "4aa63cca0c4afedf",
   "execution_count": 24
  },
  {
   "cell_type": "code",
   "outputs": [
    {
     "ename": "NameError",
     "evalue": "name 'train_and_evaluate_feature_selection_with_other_estimator' is not defined",
     "output_type": "error",
     "traceback": [
      "\u001B[1;31m---------------------------------------------------------------------------\u001B[0m",
      "\u001B[1;31mNameError\u001B[0m                                 Traceback (most recent call last)",
      "Cell \u001B[1;32mIn[1], line 5\u001B[0m\n\u001B[0;32m      3\u001B[0m \u001B[38;5;28;01mfor\u001B[39;00m i \u001B[38;5;129;01min\u001B[39;00m test:\n\u001B[0;32m      4\u001B[0m     \u001B[38;5;28;01mfor\u001B[39;00m j \u001B[38;5;129;01min\u001B[39;00m estimator:\n\u001B[1;32m----> 5\u001B[0m         acc, f1, roc_auc, cm \u001B[38;5;241m=\u001B[39m \u001B[43mtrain_and_evaluate_feature_selection_with_other_estimator\u001B[49m(j,i)\n\u001B[0;32m      6\u001B[0m         \u001B[38;5;28mprint\u001B[39m(\u001B[38;5;124mf\u001B[39m\u001B[38;5;124m\"\u001B[39m\u001B[38;5;124mn_component = \u001B[39m\u001B[38;5;132;01m{\u001B[39;00mi\u001B[38;5;132;01m}\u001B[39;00m\u001B[38;5;124m\"\u001B[39m)\n\u001B[0;32m      7\u001B[0m         \u001B[38;5;28mprint\u001B[39m(\u001B[38;5;124mf\u001B[39m\u001B[38;5;124m\"\u001B[39m\u001B[38;5;124mn_estimator = \u001B[39m\u001B[38;5;132;01m{\u001B[39;00mj\u001B[38;5;132;01m}\u001B[39;00m\u001B[38;5;124m\"\u001B[39m)\n",
      "\u001B[1;31mNameError\u001B[0m: name 'train_and_evaluate_feature_selection_with_other_estimator' is not defined"
     ]
    }
   ],
   "source": [
    "test =[0.4]\n",
    "estimator=[1500]\n",
    "for i in test:\n",
    "    for j in estimator:\n",
    "        acc, f1, roc_auc, cm = train_and_evaluate_feature_selection_with_other_estimator(j,i)\n",
    "        print(f\"n_component = {i}\")\n",
    "        print(f\"n_estimator = {j}\")\n",
    "        print(f\"Accuracy: {acc}\")\n",
    "        print(f\"F1 Score: {f1}\")\n",
    "        print(f\"ROC AUC: {roc_auc}\")\n",
    "        print(f\"Confusion Matrix:\\n{cm}\")\n",
    "        print()\n",
    "        # doc = Document()\n",
    "        # doc.add_heading('Model Evaluation Results', level=1)\n",
    "        # doc.add_heading('Feature Selection', level=2)\n",
    "        # doc.add_heading('PCA', level=3)\n",
    "        # doc.add_paragraph(f\"PCA n_component = {i}\")\n",
    "        # doc.add_paragraph(f\"n_estimator = {j}\")\n",
    "        # doc.add_paragraph(f\"Accuracy: {acc}\")\n",
    "        # doc.add_paragraph(f\"F1 Score: {f1}\")\n",
    "        # doc.add_paragraph(f\"ROC AUC: {roc_auc}\")\n",
    "        # doc.add_paragraph(f\"Confusion Matrix:\\n{cm}\")\n",
    "        # doc.save(f'model_evaluation_results_fs{i}_estimator{j}.docx')\n",
    "    \n",
    "\n"
   ],
   "metadata": {
    "collapsed": false,
    "ExecuteTime": {
     "end_time": "2024-12-16T15:08:41.312285Z",
     "start_time": "2024-12-16T15:08:40.853010Z"
    }
   },
   "id": "ca7c1a7b45b7325a",
   "execution_count": 1
  },
  {
   "cell_type": "code",
   "outputs": [],
   "source": [],
   "metadata": {
    "collapsed": false
   },
   "id": "3776d407e5c757b8"
  }
 ],
 "metadata": {
  "kernelspec": {
   "display_name": "Python 3",
   "language": "python",
   "name": "python3"
  },
  "language_info": {
   "codemirror_mode": {
    "name": "ipython",
    "version": 2
   },
   "file_extension": ".py",
   "mimetype": "text/x-python",
   "name": "python",
   "nbconvert_exporter": "python",
   "pygments_lexer": "ipython2",
   "version": "2.7.6"
  }
 },
 "nbformat": 4,
 "nbformat_minor": 5
}
